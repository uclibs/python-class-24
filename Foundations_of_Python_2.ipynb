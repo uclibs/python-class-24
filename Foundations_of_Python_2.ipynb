{
  "cells": [
    {
      "cell_type": "markdown",
      "metadata": {
        "id": "_fXnFmnfLiH3"
      },
      "source": [
        "# **Objectives**\n",
        "\n",
        "* **Hands-on**\n",
        " * **Control Flow**\n",
        "    * [Comparison Operators](#scrollTo=GfxU8vUVLiH7&line=1&uniqifier=1)\n",
        "    * [Logical Operators](#scrollTo=DbNN7z7hLiIH&line=1&uniqifier=1)\n",
        "    * [Decision Block](#scrollTo=wxILHGq5LiIK)\n",
        " * **Loops**\n",
        "    * [While Loop](#scrollTo=QqgNRn1ULiIN)\n",
        "    * [For Loop](#scrollTo=Jx0-K18QMoYp)\n",
        " * [Functions](#scrollTo=oVwxtDRtLiIR)\n",
        " * [Variable scope](#scrollTo=YsVu_qNNLiIU) <br><br>\n"
      ]
    },
    {
      "cell_type": "markdown",
      "source": [
        "\n",
        "## **Using LLM AI as a coding tutor when learning this workshop on your own.**\n",
        "There are several ways that LLM can help improve your self-learning process. LLM AI can be used as a coding tutor to help:\n",
        "* Explain new concepts in other words. Ask it to give basic, intermediate, or advanced explanations of coding concepts depending on your familiarity and comfort level.\n",
        "* Guide you through the exercises and explain the logic and code. If you get stuck with the exercises, you can ask a LLM to give you a step-by-step guide to the exercise so you better understand the learning objectives. For best results, be very specific with the LLM AI so it has the necessary context to best help you.\n",
        "\n",
        "* Give you more exercises. If you aren't sure you understand a concept and want to test your knowledge, ask a LLM AI to give additional exercises to help test your abilities and understanding. They can be coding problems, multiple choice, fill in the blank, or whatever will work best for your learning style. Be creative and get the support you want.  \n",
        "\n",
        "The AI has infinite patience, so ask as many questions as you want!\n",
        "\n",
        "### **The Food Emojis**\n",
        "\n",
        "As you go through this workshop, you will notice **Food Emojis** embedded throughout. They accompany bolded terms that are the fundamental concepts that python programming is built upon. The key thing here is **if you see an emoji, consider asking a LLM AI about the bolded concept**. For fun, we have gamified this by thinking of the emojis as dishes you can collect on a world food tour.\n",
        "  - To collect all the dishes, you should follow the workshop section by section and add your found dish (new coding concept) to the end of the following prompt and take it to LLM AI:\n",
        "\n",
        " `You are going to take on the role of an excellent python coding tutor. I'm a beginner learning to program in python. In simple terms, please give me an overview and explanation of the following concept:  `\n",
        "\n",
        "  - You can add more surrounding components to the prompts to make it more clear. For example, maybe you know another language and want LLM AI to compare how the concept works in R or C++ to help you better understand.\n",
        "\n",
        "### **Disclaimer**\n",
        "- Outputs may be inaccurate, untruthful, and otherwise misleading.\n",
        "- It may produce biased content.\n",
        "- It will not cite sources.\n",
        "  \n",
        "Always use caution when interacting with LLM AI systems. Despite the large bounds in progress and capability, they are still in early versions and teams of people are working to fix short comings and mistakes each and every day. Despite how useful they can be as coding tutors, it is important to remember that their outputs should be met with a healthy amount of skepticism."
      ],
      "metadata": {
        "id": "AWsUqaWJpmuY"
      }
    },
    {
      "cell_type": "markdown",
      "metadata": {
        "id": "GfxU8vUVLiH7"
      },
      "source": [
        "## **Control Flow**\n",
        "### 🍱**Comparison Operators**\n",
        "* Used to form Conditions\n",
        "* Generates Boolean Outputs\n",
        "---\n",
        "Did you notice the first food emoji? Here is an example of how to use the sample prompt given above:\n",
        "\n",
        " `You are going to take on the role of an excellent python coding tutor. I'm a beginner learning to program in python. In simple terms, please give me an overview and explanation of the following concept: Comparison Operators `"
      ]
    },
    {
      "cell_type": "code",
      "execution_count": 1,
      "metadata": {
        "id": "UUFU1-D5LiH8"
      },
      "outputs": [],
      "source": [
        "a = 5\n",
        "b = 6\n",
        "name = 'Smith'"
      ]
    },
    {
      "cell_type": "markdown",
      "metadata": {
        "id": "dbfUOxRaLiH-"
      },
      "source": [
        "**Equal to (==)**"
      ]
    },
    {
      "cell_type": "code",
      "execution_count": 2,
      "metadata": {
        "collapsed": true,
        "id": "jQ9p2o3xLiH-",
        "colab": {
          "base_uri": "https://localhost:8080/"
        },
        "outputId": "76eb743e-e24b-4c77-bd9e-df3e215dec1e"
      },
      "outputs": [
        {
          "output_type": "execute_result",
          "data": {
            "text/plain": [
              "True"
            ]
          },
          "metadata": {},
          "execution_count": 2
        }
      ],
      "source": [
        "a == 5"
      ]
    },
    {
      "cell_type": "code",
      "execution_count": 3,
      "metadata": {
        "collapsed": true,
        "id": "hVEa40AuLiH_",
        "colab": {
          "base_uri": "https://localhost:8080/"
        },
        "outputId": "0b2c5b1c-0205-464d-ce16-0bfac5acf6c3"
      },
      "outputs": [
        {
          "output_type": "execute_result",
          "data": {
            "text/plain": [
              "False"
            ]
          },
          "metadata": {},
          "execution_count": 3
        }
      ],
      "source": [
        "a == b"
      ]
    },
    {
      "cell_type": "markdown",
      "metadata": {
        "id": "QpPObUZaLiIC"
      },
      "source": [
        "**Not equal to (!=)**"
      ]
    },
    {
      "cell_type": "code",
      "execution_count": 4,
      "metadata": {
        "collapsed": true,
        "id": "H3ecoxL4LiID",
        "colab": {
          "base_uri": "https://localhost:8080/"
        },
        "outputId": "c4a50e6b-cfa7-4dc1-932d-482718e1b873"
      },
      "outputs": [
        {
          "output_type": "execute_result",
          "data": {
            "text/plain": [
              "True"
            ]
          },
          "metadata": {},
          "execution_count": 4
        }
      ],
      "source": [
        "a != b"
      ]
    },
    {
      "cell_type": "code",
      "execution_count": 5,
      "metadata": {
        "id": "sGGsW2pgLiIE",
        "colab": {
          "base_uri": "https://localhost:8080/"
        },
        "outputId": "a6c0b315-d218-483e-8378-67532a18c4c3"
      },
      "outputs": [
        {
          "output_type": "execute_result",
          "data": {
            "text/plain": [
              "False"
            ]
          },
          "metadata": {},
          "execution_count": 5
        }
      ],
      "source": [
        "name != 'Smith'"
      ]
    },
    {
      "cell_type": "markdown",
      "metadata": {
        "id": "GHlpIDlYLiIE"
      },
      "source": [
        "**Less than (<) and Greater than (>)**"
      ]
    },
    {
      "cell_type": "code",
      "execution_count": null,
      "metadata": {
        "collapsed": true,
        "id": "FJxqDBWALiIF"
      },
      "outputs": [],
      "source": [
        "a < b"
      ]
    },
    {
      "cell_type": "code",
      "execution_count": null,
      "metadata": {
        "collapsed": true,
        "id": "7LXEksb7LiIF"
      },
      "outputs": [],
      "source": [
        "b > 7"
      ]
    },
    {
      "cell_type": "markdown",
      "metadata": {
        "id": "UsEfIJDiLiIG"
      },
      "source": [
        "**Greater than or equal to (>=) and Less than or equal to (<=)**"
      ]
    },
    {
      "cell_type": "code",
      "execution_count": null,
      "metadata": {
        "collapsed": true,
        "id": "RID0t_YkLiIG"
      },
      "outputs": [],
      "source": [
        "a <= 5"
      ]
    },
    {
      "cell_type": "code",
      "execution_count": null,
      "metadata": {
        "collapsed": true,
        "id": "cJsCtk5PLiIG"
      },
      "outputs": [],
      "source": [
        "b >= 7"
      ]
    },
    {
      "cell_type": "markdown",
      "metadata": {
        "id": "DbNN7z7hLiIH"
      },
      "source": [
        "### 🍘**Logical Operators**\n",
        "Logical operators are used to combine Comparison statements and to negate the output of a Comparison statement.\n",
        "<br>\n",
        "Below are Logical operators supported by Python language. All other Logical operators can be derived from these\n",
        "\n"
      ]
    },
    {
      "cell_type": "markdown",
      "source": [
        "**Logical AND (and)**\n",
        "* Logical **'and'** returns **'True'** only if all the conditions are satified or True values."
      ],
      "metadata": {
        "id": "EPdo6xNkbuAm"
      }
    },
    {
      "cell_type": "code",
      "source": [
        "a = 5\n",
        "b = 6"
      ],
      "metadata": {
        "id": "nXYNulDQbwMc"
      },
      "execution_count": 6,
      "outputs": []
    },
    {
      "cell_type": "code",
      "execution_count": 14,
      "metadata": {
        "collapsed": true,
        "id": "h8LFQxSnLiIH",
        "colab": {
          "base_uri": "https://localhost:8080/"
        },
        "outputId": "67a37813-1c6a-4d69-ed1b-74c7e2a179f7"
      },
      "outputs": [
        {
          "output_type": "execute_result",
          "data": {
            "text/plain": [
              "True"
            ]
          },
          "metadata": {},
          "execution_count": 14
        }
      ],
      "source": [
        "a <= 5 and a < b"
      ]
    },
    {
      "cell_type": "code",
      "execution_count": 15,
      "metadata": {
        "collapsed": true,
        "id": "cTXn0lkXLiII",
        "colab": {
          "base_uri": "https://localhost:8080/"
        },
        "outputId": "50a2c086-59b8-4e59-a95b-d7ced1ac8c03"
      },
      "outputs": [
        {
          "output_type": "execute_result",
          "data": {
            "text/plain": [
              "False"
            ]
          },
          "metadata": {},
          "execution_count": 15
        }
      ],
      "source": [
        "a <= 5 and b >= 7"
      ]
    },
    {
      "cell_type": "markdown",
      "metadata": {
        "id": "3ZO1iHw0LiII"
      },
      "source": [
        "**Logical OR (or)**\n",
        "* Logical **'or'** returns **'True'** if one of the conditions in a conditional statement is satisfied or a True value.\n",
        "* It will return **'False'**, only when all the conditions in a conditional statement are not satisfied or False values."
      ]
    },
    {
      "cell_type": "code",
      "execution_count": null,
      "metadata": {
        "collapsed": true,
        "id": "3ajKHp91LiII"
      },
      "outputs": [],
      "source": [
        "a <= 5 or a < b"
      ]
    },
    {
      "cell_type": "code",
      "execution_count": null,
      "metadata": {
        "collapsed": true,
        "id": "C3gnns6FLiII"
      },
      "outputs": [],
      "source": [
        "a <= 5 or b >= 7"
      ]
    },
    {
      "cell_type": "markdown",
      "metadata": {
        "id": "eErpZbVMLiIJ"
      },
      "source": [
        "**Logical NOT (not)**\n",
        "* Logical **'not'** reverses or negates the outcome of a conditional statement."
      ]
    },
    {
      "cell_type": "code",
      "execution_count": null,
      "metadata": {
        "collapsed": true,
        "id": "laS1uVndLiIJ"
      },
      "outputs": [],
      "source": [
        "not(a <= 5)"
      ]
    },
    {
      "cell_type": "markdown",
      "metadata": {
        "id": "hc6WjynZLiIJ"
      },
      "source": [
        "**<h5><center>Note</center></h5>**\n",
        "\n",
        "\n",
        "\n",
        "* Precedence for Logical operators - **not, and, or**<br>\n"
      ]
    },
    {
      "cell_type": "markdown",
      "source": [
        " ##### **User inputs with 'input( )' function**\n",
        "* Prompt the user to provide a value using the **input( )** function\n",
        "<br>\n",
        "* **input( )** function always returns a string value\n",
        "* Use the functions, such as **int( ), float( ), list( ), tuple( ), dict( )** etc., to convert the string data type to integers, float-pointing numbers, lists, tuples and dictionaries repectively"
      ],
      "metadata": {
        "id": "fFQtg5oLxJqH"
      }
    },
    {
      "cell_type": "code",
      "execution_count": 9,
      "metadata": {
        "id": "PpOp0P4nLiIJ",
        "colab": {
          "base_uri": "https://localhost:8080/"
        },
        "outputId": "5e813546-7356-4a65-c682-c37ab4deebd1"
      },
      "outputs": [
        {
          "output_type": "stream",
          "name": "stdout",
          "text": [
            "Enter a value: 9\n",
            "9 <class 'str'>\n"
          ]
        }
      ],
      "source": [
        "var = input('Enter a value: ')\n",
        "\n",
        "# Print the value and the data type BEFORE conversion\n",
        "print(var, type(var))"
      ]
    },
    {
      "cell_type": "code",
      "source": [
        "# Use the respective functions to convert the string value to that data type\n",
        "var1 = float(var)\n",
        "\n",
        "# Print the value and the data type AFTER conversion\n",
        "print(var1, type(var1))"
      ],
      "metadata": {
        "id": "OEF1l0yEhPqI",
        "colab": {
          "base_uri": "https://localhost:8080/"
        },
        "outputId": "9ee603b8-e244-4925-950d-29e4f251ff34"
      },
      "execution_count": 10,
      "outputs": [
        {
          "output_type": "stream",
          "name": "stdout",
          "text": [
            "9.0 <class 'float'>\n"
          ]
        }
      ]
    },
    {
      "cell_type": "markdown",
      "source": [
        "**<center>Note</center>** <br>\n",
        "\n",
        " * Use the function, for data type conversion, directly with the input() function<br>\n",
        "  * `var = float(input('Enter a value: '))`"
      ],
      "metadata": {
        "id": "nFGuOkxcc6rt"
      }
    },
    {
      "cell_type": "markdown",
      "metadata": {
        "id": "Sor2EdjqLiIJ"
      },
      "source": [
        "### **Exercise 1**\n",
        "#### **Comparison Operators**\n",
        "1. Take two inputs from user and check whether they are equal or not.<br><br>\n",
        "2. Take 3 inputs from user and check if\n",
        "   * they all are equal\n",
        "   * any two are equal<br>\n",
        "   * **HINT**:  use **and**, **or**<br><br>\n",
        "3. Take two numbers from user and check whether the sum is greater than 5, less than 5 or equal to 5.   \n",
        "   * **HINT**:  For Python3 users, since the **input** outputs a string, use the **float()** to convert to a floating number before comparing<br><br>\n",
        "4. Judge the following expressions :<br>\n",
        "   **not(True and True)**<br>\n",
        "   **True or False**<br>\n",
        "   **not(False and True)**<br>\n",
        "   **False and False**<br>\n",
        "   What do you think are the results?<br>\n",
        "   Try them on commandline"
      ]
    },
    {
      "cell_type": "markdown",
      "source": [],
      "metadata": {
        "id": "7enBXlM4jWKt"
      }
    },
    {
      "cell_type": "code",
      "source": [
        "a = 12\n",
        "b = 95\n",
        "a <= b\n"
      ],
      "metadata": {
        "id": "37FX_uDcjBnh",
        "outputId": "f514391e-f354-4242-e1f0-bac480b7e1f2",
        "colab": {
          "base_uri": "https://localhost:8080/"
        }
      },
      "execution_count": 17,
      "outputs": [
        {
          "output_type": "execute_result",
          "data": {
            "text/plain": [
              "True"
            ]
          },
          "metadata": {},
          "execution_count": 17
        }
      ]
    },
    {
      "cell_type": "code",
      "execution_count": 18,
      "metadata": {
        "id": "xKy-gPQpLiIK",
        "colab": {
          "base_uri": "https://localhost:8080/"
        },
        "outputId": "f032531a-7acc-4b93-8daf-9218682ad9a4"
      },
      "outputs": [
        {
          "name": "stdout",
          "output_type": "stream",
          "text": [
            "Enter a value: 12\n",
            "Enter a value: 567\n"
          ]
        },
        {
          "output_type": "execute_result",
          "data": {
            "text/plain": [
              "False"
            ]
          },
          "metadata": {},
          "execution_count": 18
        }
      ],
      "source": [
        "var1 = input('Enter a value: ')\n",
        "var2 = input('Enter a value: ')\n",
        "var1 == var2"
      ]
    },
    {
      "cell_type": "code",
      "execution_count": 19,
      "metadata": {
        "id": "MITx_QScLiIK",
        "colab": {
          "base_uri": "https://localhost:8080/"
        },
        "outputId": "3c00f669-2203-4bed-c933-1329adcecdb0"
      },
      "outputs": [
        {
          "name": "stdout",
          "output_type": "stream",
          "text": [
            "Enter Value123\n",
            "Enter Value3545\n",
            "Enter Value8667887\n"
          ]
        },
        {
          "output_type": "execute_result",
          "data": {
            "text/plain": [
              "False"
            ]
          },
          "metadata": {},
          "execution_count": 19
        }
      ],
      "source": [
        "  var1 =input (\"Enter Value\")\n",
        "  var2 =input (\"Enter Value\")\n",
        "  var3 =input (\"Enter Value\")\n",
        "  var1 == var2 and var1 == var3"
      ]
    },
    {
      "cell_type": "code",
      "execution_count": 21,
      "metadata": {
        "id": "JMbmbvqLLiIK",
        "colab": {
          "base_uri": "https://localhost:8080/"
        },
        "outputId": "671780f8-2683-4122-dc02-444f1ba6466e"
      },
      "outputs": [
        {
          "name": "stdout",
          "output_type": "stream",
          "text": [
            "Enter Value123\n",
            "Enter Value35445\n"
          ]
        },
        {
          "output_type": "execute_result",
          "data": {
            "text/plain": [
              "False"
            ]
          },
          "metadata": {},
          "execution_count": 21
        }
      ],
      "source": [
        "var1 =input (\"Enter Value\")\n",
        "var2 =input (\"Enter Value\")\n",
        "var1 == var2 or var1 == var3"
      ]
    },
    {
      "cell_type": "code",
      "execution_count": 21,
      "metadata": {
        "id": "kBf-zLKBLiIK"
      },
      "outputs": [],
      "source": []
    },
    {
      "cell_type": "markdown",
      "metadata": {
        "id": "wxILHGq5LiIK"
      },
      "source": [
        "### **🍙Decision Blocks**\n",
        "* Control the direction of the code execution\n",
        "* Use the outcome of the conditional statements, either True or False, to control the flow"
      ]
    },
    {
      "cell_type": "markdown",
      "metadata": {
        "id": "s58mO6QxLiIL"
      },
      "source": [
        "**<h5><center>Note</center></h5>**\n",
        "\n",
        "**Python Blocks**\n",
        "* A block is a set of code statements that perform a specific task as a unit\n",
        "* Every Python block lis marked by a colon **' : '**\n",
        "* All the statements under the block must be indented\n",
        "* Indentation must be consistent for each block in the whole python code"
      ]
    },
    {
      "cell_type": "markdown",
      "source": [
        "#### **If block**\n",
        "* Consists of a Condition or Boolean expression followed by one or more statements.\n",
        "* If the Condition or Boolean expression is **True**, then the statement(s) are executed. If **False**, then then the statement(s) are skipped\n",
        "\n",
        "**if   < condition >:**\n",
        "<br>\n",
        "$\\;\\;\\;\\;\\;\\;$**statement(s)**"
      ],
      "metadata": {
        "id": "60R9oj2G-b78"
      }
    },
    {
      "cell_type": "code",
      "execution_count": 22,
      "metadata": {
        "id": "qzYmpKJALiIK",
        "colab": {
          "base_uri": "https://localhost:8080/"
        },
        "outputId": "de9c8845-0509-4ff8-a276-c3dc1dfe9dbc"
      },
      "outputs": [
        {
          "output_type": "stream",
          "name": "stdout",
          "text": [
            "'a' is less than or equal to 5\n",
            "This statement is also executed under the if block\n"
          ]
        }
      ],
      "source": [
        "a = 5\n",
        "if a <= 5:\n",
        "    print('\\'a\\' is less than or equal to 5')\n",
        "    print('This statement is also executed under the if block')"
      ]
    },
    {
      "cell_type": "code",
      "execution_count": 23,
      "metadata": {
        "id": "C3W34zjrLiIL",
        "colab": {
          "base_uri": "https://localhost:8080/"
        },
        "outputId": "55c106fa-3f2b-477d-a461-f10dc7941559"
      },
      "outputs": [
        {
          "output_type": "stream",
          "name": "stdout",
          "text": [
            "DONE\n"
          ]
        }
      ],
      "source": [
        "if a <= 4:\n",
        "    print('\\'a\\' is less than or equal to 5')\n",
        "    print('This statement is also executed under the if block')\n",
        "print('DONE')"
      ]
    },
    {
      "cell_type": "markdown",
      "metadata": {
        "id": "6nnNE5WhMDiz"
      },
      "source": [
        "#### **If..else blocks**\n",
        "* **' if '** block may be followed by an optional **' else '** block which executes when the Condition or Boolean expression is false\n",
        "* If the Condition or Boolean expression is **True**, then the statement(s) 1 are executed. If **False**, then then the statement(s) 2 are executed\n",
        "* The **' else '** block has no conditions attached\n",
        "* There can be only one **' if '** block and one **' else '** block\n",
        "\n",
        "**if   < condition >:**\n",
        "<br>\n",
        "$\\;\\;\\;\\;\\;\\;$**statement(s) 1**\n",
        "<br>\n",
        "**else:**\n",
        "<br>\n",
        "$\\;\\;\\;\\;\\;\\;$**statement(s) 2**"
      ]
    },
    {
      "cell_type": "code",
      "execution_count": null,
      "metadata": {
        "id": "2Zj5cXdPLiIM"
      },
      "outputs": [],
      "source": [
        "a = 6\n",
        "if a <= 5:\n",
        "    print('\\'a\\' is less than or equal to 5')\n",
        "    print('This statement is also executed under the if block')\n",
        "else:\n",
        "    print('\\'a\\' must be greater than 5')\n",
        "    print('This statement is also executed under the else block')\n",
        "print('DONE')"
      ]
    },
    {
      "cell_type": "markdown",
      "metadata": {
        "id": "aef6e5GpLiIM"
      },
      "source": [
        "#### **If..elif..else blocks**\n",
        "\n",
        "* **' if '** block may be followed by one or more optional **' elif '** (Else if) blocks and one optional **' else '** block\n",
        "* The **' if '** block and **' elif '** blocks must have conditions attached. The **' else '** block has no conditions attached\n",
        "* There can be only one **' if '** block and one **' else '** block. There can be more than one **' elif '** blocks.\n",
        "* If the Condition or Boolean expression under the **' if '** block is **False**, then the condition of the next **' elif '** block is examined. If **True**, the statement(s) 2 are executed. If **False**, the next **' elif '** block is examined until the statements under the **' else '** block are executed if an **' else '** block exists.  \n",
        "\n",
        "**if   < condition >:**\n",
        "<br>\n",
        "$\\;\\;\\;\\;\\;\\;$**statement(s) 1**\n",
        "<br>\n",
        "**elif   < condition >:**\n",
        "<br>\n",
        "$\\;\\;\\;\\;\\;\\;$**statement(s) 2**\n",
        "<br>\n",
        "**elif   < condition >:**\n",
        "<br>\n",
        "$\\;\\;\\;\\;\\;\\;$**statement(s) 3**\n",
        "<br>\n",
        "**else:**\n",
        "<br>\n",
        "$\\;\\;\\;\\;\\;\\;$**statement(s) 4**"
      ]
    },
    {
      "cell_type": "code",
      "execution_count": 25,
      "metadata": {
        "id": "vMT_IJY9LiIM",
        "colab": {
          "base_uri": "https://localhost:8080/"
        },
        "outputId": "78444f46-ba66-4eba-c688-e85d69a5bdbc"
      },
      "outputs": [
        {
          "output_type": "stream",
          "name": "stdout",
          "text": [
            "Type a number for 'b': 123\n",
            "'a' must be greater than 10\n",
            "DONE\n"
          ]
        }
      ],
      "source": [
        "b = input('Type a number for \\'b\\': ')  # '\\' is an escape character\n",
        "a = float(b)\n",
        "if a <= 5:\n",
        "    print('\\'a\\' is less than or equal to 5')\n",
        "elif a > 5 and a <= 8:\n",
        "    print('\\'a\\' is greater than 5 and less than or equal to 8')\n",
        "elif a > 8 and a <= 10:\n",
        "    print('\\'a\\' is greater than 8 and less than or equal to 10')\n",
        "else:\n",
        "    print('\\'a\\' must be greater than 10')\n",
        "print('DONE')"
      ]
    },
    {
      "cell_type": "markdown",
      "metadata": {
        "id": "ssazLhm-LiIN"
      },
      "source": [
        "## **Exercise 2**\n",
        "#### **UC 6+2 program**\n",
        "Write a program to generate and print the UC 6+2 ID for a given first & last name.\n",
        "1. Take 2 inputs, first name & last name and store them in two different variables.\n",
        "2. If the length of the last name is >=6, generate the 6+2 ID by taking the first 6 letters from the last name, first and last letters from the first name.\n",
        "3. If the length of the last name is <6, take all the letters from the last name, for the remaining letters pick the starting letters of the first name to make up for the length of 6 & first and last letters from the remaining first name\n",
        "4. Print out the six plus two in lower case"
      ]
    },
    {
      "cell_type": "code",
      "execution_count": 27,
      "metadata": {
        "id": "wkn2gsFKLiIN"
      },
      "outputs": [],
      "source": [
        "# Take input for user's first name and store in a variable\n",
        "first_name = ''# Replace this line with the right code\n",
        "\n",
        "# Take input for user's last name and store in a variable\n",
        "last_name = '' # Replace this line with the right code\n",
        "\n",
        "input('Enter your first name: ')\n",
        "input('Enter your last name: ')\n",
        "\n",
        "\n",
        "# Use the appropriate If and else Decision Block with a condition that compares the Length of the Last name to 6\n",
        "# In the If and else Decision Block store the six plus two in a variable\n",
        "# Use the Tips below in your If and else Decision Bloc\n",
        "if len(last_name) >= 6:\n",
        "    six_plus_2 = last_name[0:?] + first_name[0] + first_name[?] # Replace this line with the right code\n",
        "    print(six_plus_2)\n",
        "\n",
        "# Continue the \"If..elif..else\" block with the appropriate block for the remaining scenario\n",
        "else\n",
        "    six_plus_2 = last_name + first_name[0:(6-len(?))] + first_name[6-len(?)] + first[?] # Replace this line with the right code\n",
        "    print(six_plus_2)\n",
        "\n",
        "# Print out the six plus two in lower case\n",
        "    print(six_plus_2.lower())\n",
        "\n",
        "\n",
        "\n",
        "# Tips (Replace the portions marked with ?)\n",
        "# ********************************************\n",
        "# For length of the last name is >=6, sixplus2 = last_name[0:?] + first_name[0] + first_name[?]\n",
        "# For length of the last name is <6, sixplus2 = last_name + first_name[0:(6-len(?))] + first_name[6-len(?)] + first_name[?]"
      ]
    },
    {
      "cell_type": "markdown",
      "source": [
        "## **Loops**\n",
        "* Loops are used to perform a specific task repeatedly until a condition is met\n",
        "* 2 types of loops - **'while'** and **'for'**"
      ],
      "metadata": {
        "id": "fzwa3kBL3mfx"
      }
    },
    {
      "cell_type": "markdown",
      "metadata": {
        "id": "QqgNRn1ULiIN"
      },
      "source": [
        "### **🍥While Loop**\n",
        "* **while** loop will execute as long as the looping condition or Boolean expression is **True**\n",
        "* The loop is exited when the looping condition or Boolean expression becomes **False**\n",
        "\n",
        "  **while   < condition >:**\n",
        "  \n",
        "  $\\;\\;\\;\\;\\;\\;$**statement(s)**\n",
        "  \n"
      ]
    },
    {
      "cell_type": "code",
      "source": [
        "count = 0\n",
        "while count < 10:\n",
        "  print(count)\n",
        "  count = count + 1 # count += 1, short-hand notation to increment a variable"
      ],
      "metadata": {
        "id": "hcap6RA3W2Is"
      },
      "execution_count": null,
      "outputs": []
    },
    {
      "cell_type": "markdown",
      "source": [
        "#### 🍢**Infinite loop**\n",
        "Occurs when\n",
        "* Loop condition cannot possibly be False example **while 1 != 2:** or **while True:**\n",
        "* Logic of the loop prevents the loop condition from becoming false\n",
        "  \n"
      ],
      "metadata": {
        "id": "4H_t9uNlW06F"
      }
    },
    {
      "cell_type": "code",
      "source": [
        "# CAUTION - Infinite loop\n",
        "count = 0\n",
        "while count >= 0:\n",
        "  print(count)\n",
        "  count += 1"
      ],
      "metadata": {
        "id": "ExBVRtb0PFiz"
      },
      "execution_count": null,
      "outputs": []
    },
    {
      "cell_type": "markdown",
      "source": [
        "#### 🧆**Break Statement**\n",
        "Used to exit the current loop"
      ],
      "metadata": {
        "id": "CNC9V1LbPE8M"
      }
    },
    {
      "cell_type": "code",
      "execution_count": null,
      "metadata": {
        "id": "rWRT0mPWLiIN"
      },
      "outputs": [],
      "source": [
        "count = 0\n",
        "while count >= 0:\n",
        "    print(count)\n",
        "    count +=1 # count = count + 1\n",
        "    if count >= 10:\n",
        "        break"
      ]
    },
    {
      "cell_type": "markdown",
      "metadata": {
        "id": "Mwrl4g_YLiIN"
      },
      "source": [
        "#### **While..else loop blocks**\n",
        "* A feature very unique to Python\n",
        "* The **'else'** block executes when either\n",
        " * Loop is never entered\n",
        " * Loop exits normally\n",
        "* The **'else'** block does not execute when the loop exits as a result of a break"
      ]
    },
    {
      "cell_type": "code",
      "execution_count": null,
      "metadata": {
        "id": "1dF9y1j5LiIO"
      },
      "outputs": [],
      "source": [
        "import random #will explain import later\n",
        "count = 0\n",
        "while count < 3:\n",
        "    num = random.randint(1,6) # This will generate a random number between 1 and 6\n",
        "    print(num)\n",
        "    if num == 5:\n",
        "        print('sorry, you lose!')\n",
        "        break\n",
        "    count +=1\n",
        "else:\n",
        "    print('You win!')"
      ]
    },
    {
      "cell_type": "markdown",
      "metadata": {
        "id": "56Pn-tJILiIO"
      },
      "source": [
        "**<h5><center>Note</center></h5>**\n",
        "\n",
        "**Import command**\n",
        "* Used to import external modules and packages containing functions and other definitions\n",
        "* NB: We will introduce **Imports,** **Modules** and **Packages** into more details in the follow up workshop\n",
        "\n",
        "**Module 'random' and function 'randint'**\n",
        "* The module **'random'** contains definitions for generating random numbers\n",
        "* **'randint (a , b)'** is defined in module **'random'** to generate a random integer between **'a'** and **'b'**\n",
        "\n"
      ]
    },
    {
      "cell_type": "markdown",
      "metadata": {
        "id": "Jx0-K18QMoYp"
      },
      "source": [
        "## 🫕**For Loop**\n",
        "* Each item in the sequence is assigned to the iterating variable and the statements are executed for each item until the entire sequence is exhausted.\n",
        "* Number of iterations depends on the length of the sequence.\n",
        "  \n",
        "  **for < iterating variable > in < sequence > :**\n",
        "  \n",
        "  $\\;\\;\\;\\;\\;\\;$**statement(s)**"
      ]
    },
    {
      "cell_type": "code",
      "execution_count": null,
      "metadata": {
        "id": "MvHwjJ-5LiIO"
      },
      "outputs": [],
      "source": [
        "for var in 'string':\n",
        "    print(var)"
      ]
    },
    {
      "cell_type": "code",
      "execution_count": null,
      "metadata": {
        "id": "KmV7Fco0LiIO"
      },
      "outputs": [],
      "source": [
        "k = 'string'\n",
        "for var in k:\n",
        "    print(var.upper())"
      ]
    },
    {
      "cell_type": "code",
      "execution_count": null,
      "metadata": {
        "id": "lZIyX_FiLiIO"
      },
      "outputs": [],
      "source": [
        "list1 = ['banana','orange','mango']\n",
        "for fruit in list1:\n",
        "    print(fruit)"
      ]
    },
    {
      "cell_type": "code",
      "execution_count": null,
      "metadata": {
        "id": "0t4j372iLiIP"
      },
      "outputs": [],
      "source": [
        "for num in (2,4,1,34,5):\n",
        "    print(num)"
      ]
    },
    {
      "cell_type": "markdown",
      "metadata": {
        "id": "tpkVx5mALiIP"
      },
      "source": [
        "**<h5><center>Note</center></h5>**\n",
        "\n",
        "\n",
        "**Range function**\n",
        "The **range** function generates a list of numbers\n",
        "* **range ( stop )** - generates a list of numbers from **0** to **'stop - 1'**\n",
        "* **range ( start , stop )** - generates a list of numbers from **'start'** to **'stop - 1'**\n",
        "* **range ( start , stop , step )** - generates a list of numbers from **'start'**, incrementing by **'step'** until a number less or equal to **'stop - 1'**"
      ]
    },
    {
      "cell_type": "code",
      "execution_count": null,
      "metadata": {
        "id": "Gisv7TCeLiIP"
      },
      "outputs": [],
      "source": [
        "for num in range(10):\n",
        "    print(num)"
      ]
    },
    {
      "cell_type": "code",
      "execution_count": null,
      "metadata": {
        "id": "QysOHGaWLiIP"
      },
      "outputs": [],
      "source": [
        "for num in range(-6,6):\n",
        "    print(num)"
      ]
    },
    {
      "cell_type": "code",
      "execution_count": null,
      "metadata": {
        "id": "ZGaKu_zDLiIP"
      },
      "outputs": [],
      "source": [
        "for num in range(0,20,4):\n",
        "    print(num)"
      ]
    },
    {
      "cell_type": "markdown",
      "metadata": {
        "id": "KnaRCcnpLiIQ"
      },
      "source": [
        "#### **For..else loop blocks**\n",
        "* A feature very unique to Python just like **'while..else'** block\n",
        "* The **'else'** block executes when the loop exits normally\n",
        "* The **'else'** block does not execute when the loop exits as a result of a break"
      ]
    },
    {
      "cell_type": "code",
      "execution_count": null,
      "metadata": {
        "id": "0gRp05gaLiIQ"
      },
      "outputs": [],
      "source": [
        "fruits = ['banana','apple','orange','tomato','pear']\n",
        "print('You have...')\n",
        "for f in fruits:\n",
        "    if f == 'tomato':\n",
        "        print('tomato is not a fruit!')\n",
        "        break\n",
        "    print(f)\n",
        "else:\n",
        "    print('A fine selection of fruits!')"
      ]
    },
    {
      "cell_type": "markdown",
      "metadata": {
        "id": "WFqRP7WFLiIQ"
      },
      "source": [
        "## **Exercise 3**\n",
        "#### **DNA to RNA Transcription**\n",
        "The process of converting DNA to RNA<br>\n",
        "G->C<br>\n",
        "C->G<br>\n",
        "A->T<br>\n",
        "T->A<br>\n",
        "Example:<br>\n",
        "**Input:** GCTAGCCTACG<br>\n",
        "**Output:** CGATCGGATGC\n",
        "\n",
        "Write a program that takes a DNA string input from a user and transcribes the string into an RNA string using rules above\n",
        "* Your program should be case insensitive\n",
        "* The program should exit if any other letter aside G,C, A and T is encountered in the DNA string\n",
        "* Your program should output the RNA string in upper cases"
      ]
    },
    {
      "cell_type": "code",
      "execution_count": null,
      "metadata": {
        "id": "IV6eZfgPLiIQ"
      },
      "outputs": [],
      "source": [
        "# Take input for DNA string and store in a variable DNA_string\n",
        "DNA_string = '' # Replace this line with the right code\n",
        "\n",
        "# Initialize the RNA output as an empty string\n",
        "RNA_string = ''\n",
        "\n",
        "# Use \"for\" loop to traverse the DNA string. Use \"If..elif..else\" sub block to check and concactenate the appropriate letter\n",
        "# to RNA_string.\n",
        "# Use \"else\" block in the \"If..elif..else\" sub block to output an error message and break if a diffrent letter is encountered\n",
        "\n",
        "for i in DNA_string.upper():\n",
        "    # the upper() method is used to make our program case insensitive\n",
        "    if i == 'G':\n",
        "        RNA_string = RNA_string + 'C'\n",
        "    # Continue the \"elif\" blocks of the \"If..elif..else\" block for the other letters\n",
        "\n",
        "\n",
        "\n",
        "\n",
        "    # Complete the \"If..elif..else\" block with \"else\" block for an error message assigned to RNA_string\n",
        "    # break out of the loop\n",
        "\n",
        "\n",
        "else:\n",
        "    # This else is attached to the for loop\n",
        "    print('Done with Translation')\n",
        "\n",
        "print('DNA output: ', RNA_string)"
      ]
    },
    {
      "cell_type": "markdown",
      "metadata": {
        "id": "oVwxtDRtLiIR"
      },
      "source": [
        "## **Functions**\n",
        "* A block of code, organized to perform an action and to be reusable\n",
        "* **System-defined** functions - Built-in functions like **print**, **len**, **range**, **input**, etc. These are already defined once you install Python\n",
        "* **User-defined** functions - You can also create your own functions\n",
        "\n",
        "### Defining 🍝**a User Defined Function**\n",
        "* Begins with keyword **'def'** followed by the function name and parentheses **( )**\n",
        "* Any input parameter/arguments should be placed within these parentheses. Multiple inputs are separated by commas **( , )**\n",
        "* Code block starts with colon (**:**) and is indented\n",
        "* **'return'** statement is optional and it exits a function\n",
        "* **'return expression'** statement passes back an expression or value to the caller of the function.\n",
        "* A fuction returns multiple values or objects as a list\n",
        "\n",
        "**def function name ( [ parameter[s] ] ) :**\n",
        "<br>\n",
        "$\\;\\;\\;\\;\\;\\;$**function body**\n",
        "<br>\n",
        "$\\;\\;\\;\\;\\;\\;$**[return expression]**"
      ]
    },
    {
      "cell_type": "code",
      "execution_count": null,
      "metadata": {
        "id": "9HDvtVllLiIS"
      },
      "outputs": [],
      "source": [
        "def printme(var):\n",
        "    #This returns the variable passed into the function\n",
        "    return var"
      ]
    },
    {
      "cell_type": "markdown",
      "metadata": {
        "id": "xpwUuA6cLiIT"
      },
      "source": [
        "### **Calling a Function**\n",
        "* Use the name of the function followed by parentheses. If the function requires any arguments, they are placed in the parentheses.<br>\n",
        "  `function_name(parameter_1, parameter_2,....)`\n",
        "\n",
        "* It's essential to know the name of the function and understand its structure for effective use."
      ]
    },
    {
      "cell_type": "code",
      "execution_count": null,
      "metadata": {
        "id": "7NFjASvpLiIT"
      },
      "outputs": [],
      "source": [
        "# 1st Function call\n",
        "printme('First call to user defined function')"
      ]
    },
    {
      "cell_type": "code",
      "source": [
        "# 2nd Function call\n",
        "printme(10)"
      ],
      "metadata": {
        "id": "GJztCdj37GZT"
      },
      "execution_count": null,
      "outputs": []
    },
    {
      "cell_type": "markdown",
      "metadata": {
        "id": "YsVu_qNNLiIU"
      },
      "source": [
        "### 🥟**Variable Scope (Global vs. Local variables)**\n",
        "* Variables defined outside a function body have a Global scope. (Accessible anywhere within the program)\n",
        "* Variables defined inside a function body have a Local scope. (Accessible only within the function even if it has the same name as another)"
      ]
    },
    {
      "cell_type": "code",
      "execution_count": null,
      "metadata": {
        "id": "IJMD4_4ILiIU"
      },
      "outputs": [],
      "source": [
        "pressure = 103.9 # 'pressure' is Global\n",
        "k = 0 # 'k' is Global\n",
        "def adjust(t):\n",
        "    # 'k' is Local to this function and has different value from Global 'k'\n",
        "    k = 1.43\n",
        "    temperature = t * k / pressure # 'temperature' is Local to function\n",
        "    return temperature"
      ]
    },
    {
      "cell_type": "code",
      "source": [
        "adjust(2000)"
      ],
      "metadata": {
        "id": "x9FZq9fX7SSP"
      },
      "execution_count": null,
      "outputs": []
    },
    {
      "cell_type": "markdown",
      "metadata": {
        "id": "ZP4sfPNGLiIU"
      },
      "source": [
        "## **Exercise 4**\n",
        "#### **Convert the UC 6+2 program to a function**\n",
        "Create a function to generate and return UC 6+2 ID for a given first & last name.\n",
        "\n",
        "1. The inputs should be the first name and last name in that order\n",
        "2. If the length of the last name is >=6, take the first 6 letters from the last name & first and last letters from the first name to form the six plus two.\n",
        "3. If the length of the last name is <6, take all of the last name, pick first letters of first name to make up for the length the last name & first and last letters from the remainder of the first name\n",
        "4. Return the six plus two in lower case"
      ]
    },
    {
      "cell_type": "code",
      "execution_count": null,
      "metadata": {
        "id": "lYagsjghLiIV"
      },
      "outputs": [],
      "source": [
        "def uc_6_2(first_name,last_name):\n",
        "    # Use the appropriate If and else Decision Block with a condition that compares the Length of the Last name\n",
        "    # In the If and else Decision Block store the six plus two in a variable\n",
        "    # Use the Tips below in your If and else Decision Block\n",
        "    if len(last_name) >= 6:\n",
        "        six_plus_2 = '' # Replace this line with the right code\n",
        "\n",
        "    # Continue the \"If..elif..else\" block with the appropriate block for the remaining scenario\n",
        "\n",
        "    # Return the six plus two in lower case\n",
        "    return\n",
        "\n",
        "\n",
        "\n",
        "# Tips (Replace the portions marked as with ?)\n",
        "# ********************************************\n",
        "# For length of the last name is >=6, sixplus2 = last_name[0:?] + first_name[0] + first_name[?]\n",
        "# For length of the last name is <6, sixplus2 = last_name + first_name[0:(6-len(?))] + first_name[6-len(?)] + first_name[?]"
      ]
    },
    {
      "cell_type": "markdown",
      "metadata": {
        "id": "Z2PKDIZK_UsX"
      },
      "source": [
        "## **Bonus Exercises**\n",
        "\n"
      ]
    },
    {
      "cell_type": "markdown",
      "metadata": {
        "id": "HZMVmWzT_UsX"
      },
      "source": [
        "### **Categorizing data**\n",
        "\n",
        "Let us assume we are given a list *l* of many integers (could be 10, 100, many thouands, or even no integers at all). We are also given a value *x*. We want to modify *l* such that if a value in *l* is less than x, we assign that value in the list to be 0. Otherwise, we change the value in the list to be 1.\n",
        "\n",
        "ex)\n",
        "\n",
        "`assign([3,56,2,6,10,19,5], 5)` should modify the list *l* to be `[0, 1, 0, 1, 1, 1, 1]`\n",
        "\n",
        "For every value in the original list, the values less than 5 are changed to 0, and the values that are greater than or equal to 5 are 1.\n",
        "\n",
        "Below is a starting template for the problem and a few test cases. If the output is `True`, the test case has passed."
      ]
    },
    {
      "cell_type": "code",
      "execution_count": null,
      "metadata": {
        "id": "TiysrlWg_UsX"
      },
      "outputs": [],
      "source": [
        "def assign(l, x):\n",
        "\n",
        "\n",
        "  pass"
      ]
    },
    {
      "cell_type": "code",
      "execution_count": null,
      "metadata": {
        "id": "b0W0pHKh_UsY"
      },
      "outputs": [],
      "source": [
        "l1 = [3,56,2,6,10,19,5]\n",
        "assign(l1, 5)\n",
        "\n",
        "l1 == [0,1,0,1,1,1,1]"
      ]
    },
    {
      "cell_type": "code",
      "execution_count": null,
      "metadata": {
        "id": "jvAuADnr_UsY"
      },
      "outputs": [],
      "source": [
        "l2 = [10, 100, 1000]\n",
        "assign(l2, 50)\n",
        "\n",
        "l2 == [0,1,1,]"
      ]
    },
    {
      "cell_type": "code",
      "execution_count": null,
      "metadata": {
        "id": "WlL9ooRZ_UsY"
      },
      "outputs": [],
      "source": [
        "l3 = [-5, -20, 4, 5, -1, 0]\n",
        "assign(l3, 0)\n",
        "\n",
        "l3 == [0,0,1,1,0,1]"
      ]
    },
    {
      "cell_type": "markdown",
      "metadata": {
        "id": "A0wTKnTR_UsY"
      },
      "source": [
        "### **FizzBuzz**\n",
        "\n",
        "In this classic question, we are given an integer *n*. We need to return a list of size *n* where the count starts at 1, and the values of the list are strings with these rules:\n",
        "\n",
        "- answer[i] == \"FizzBuzz\" if i is divisible by 3 and 5.\n",
        "- answer[i] == \"Fizz\" if i is divisible by 3.\n",
        "- answer[i] == \"Buzz\" if i is divisible by 5.\n",
        "- answer[i] == i (as a string) if none of the above conditions are true."
      ]
    },
    {
      "cell_type": "code",
      "execution_count": null,
      "metadata": {
        "id": "qroys9Xm_UsY"
      },
      "outputs": [],
      "source": [
        "def fizz_buzz(n):\n",
        "\n",
        "\n",
        "\n",
        "  return"
      ]
    },
    {
      "cell_type": "code",
      "execution_count": null,
      "metadata": {
        "id": "t0tR2uiW_UsY"
      },
      "outputs": [],
      "source": [
        "fizz_buzz(3) == [\"1\",\"2\",\"Fizz\"]"
      ]
    },
    {
      "cell_type": "code",
      "execution_count": null,
      "metadata": {
        "id": "mqXrLk9E_UsZ"
      },
      "outputs": [],
      "source": [
        "fizz_buzz(5) == [\"1\",\"2\",\"Fizz\",\"4\",\"Buzz\"]"
      ]
    },
    {
      "cell_type": "code",
      "execution_count": null,
      "metadata": {
        "id": "b6ZU4_5p_UsZ"
      },
      "outputs": [],
      "source": [
        "fizz_buzz(15) == [\"1\",\"2\",\"Fizz\",\"4\",\"Buzz\",\"Fizz\",\"7\",\"8\",\"Fizz\",\"Buzz\",\"11\",\"Fizz\",\"13\",\"14\",\"FizzBuzz\"]"
      ]
    },
    {
      "cell_type": "markdown",
      "metadata": {
        "id": "5pcDhrhMLiIV"
      },
      "source": [
        "## Advanced and Future Topics\n",
        "* Classes/Objects\n",
        "* Modules and Imports\n",
        "* Packages and Libraries\n",
        "* File I/O\n",
        "* Python for Data Analysis\n",
        "* Python for Data Visualization\n",
        "* Error Handling and Exceptions\n",
        "* List Comprehension\n",
        "* Regular Expressions\n",
        "* Database Access\n",
        "* Multithreading\n",
        "\n",
        "## Helpful Resources\n",
        "* CEAS Library Python resources - http://guides.libraries.uc.edu/python\n",
        "* Online links & tutorials\n",
        " * Python documentation - https://www.python.org/doc/\n",
        " * Python Programming wiki book - http://en.wikibooks.org/wiki/Python_Programming\n",
        " * Python tutorials - Udemy, Code academy, etc  "
      ]
    },
    {
      "cell_type": "markdown",
      "metadata": {
        "id": "pj2OfMXsLiIV"
      },
      "source": [
        "## $\\;\\;\\;\\;\\;\\;\\;\\;\\;\\;\\;\\;\\;\\;\\;\\;\\;\\;\\;\\;\\;\\;\\;\\;\\;\\;\\;\\;\\;\\;\\;\\;\\;$Questions ??\n",
        "\n",
        "$\\;\\;\\;\\;\\;\\;\\;\\;\\;\\;\\;\\;\\;\\;\\;\\;\\;\\;\\;\\;\\;\\;\\;\\;\\;\\;\\;\\;\\;\\;\\;\\;\\;\\;\\;\\;\\;\\;\\;\\;\\;\\;\\;\\;\\;\\;\\;\\;\\;\\;\\;\\;\\;\\;\\;\\;\\;\\;$**Thank you for attending the workshop !!**\n",
        "\n",
        "\n",
        "$\\;\\;\\;\\;\\;\\;\\;\\;\\;\\;\\;\\;\\;\\;\\;\\;\\;\\;\\;\\;\\;\\;\\;\\;\\;\\;\\;\\;\\;\\;\\;\\;\\;\\;\\;\\;\\;\\;\\;\\;\\;\\;\\;\\;\\;\\;$**Your kind suggestions/feedbacks are more than welcome**"
      ]
    }
  ],
  "metadata": {
    "colab": {
      "provenance": []
    },
    "kernelspec": {
      "display_name": "Python 3.10.6 64-bit",
      "language": "python",
      "name": "python3"
    },
    "language_info": {
      "codemirror_mode": {
        "name": "ipython",
        "version": 3
      },
      "file_extension": ".py",
      "mimetype": "text/x-python",
      "name": "python",
      "nbconvert_exporter": "python",
      "pygments_lexer": "ipython3",
      "version": "3.10.6"
    },
    "vscode": {
      "interpreter": {
        "hash": "aee8b7b246df8f9039afb4144a1f6fd8d2ca17a180786b69acc140d282b71a49"
      }
    }
  },
  "nbformat": 4,
  "nbformat_minor": 0
}