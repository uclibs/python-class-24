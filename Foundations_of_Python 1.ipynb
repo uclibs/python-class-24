{
  "cells": [
    {
      "cell_type": "markdown",
      "metadata": {
        "id": "flzC3gXsJby4"
      },
      "source": [
        "# **Objectives**\n",
        "\n",
        " * [Introduction to Python](#scrollTo=2F2ZYWa-Jby8)\n",
        "\n",
        "* **Hands-on**\n",
        "\n",
        " * [Variables and Data Types](#scrollTo=kfTgkZkLJby_)\n",
        " * [Math Operators](#scrollTo=9hNbCDmNJbzH)\n",
        " * [Comments & Exercise 1](#scrollTo=od8pPtXZJbzL)\n",
        " * [Strings](#scrollTo=LqLwpXewJbzM)\n",
        " * [Lists & Tuples](#scrollTo=Y_Kqnin6JbzY)\n",
        " * [Sets & Dictionaries](#scrollTo=FStAtNEfJbzo)\n",
        " * [Exercise 2](#scrollTo=HY2I6gLsT7eh)\n",
        " * [Bonus Exercise](#scrollTo=UBX28RhQJbjx) <br>\n",
        "\n"
      ]
    },
    {
      "cell_type": "markdown",
      "source": [
        "\n",
        "## **Using LLM AI as a coding tutor when learning this workshop on your own.**\n",
        "There are several ways that LLM can help improve your self-learning process. LLM AI can be used as a coding tutor to help:\n",
        "* Explain new concepts in other words. Ask it to give basic, intermediate, or advanced explanations of coding concepts depending on your familiarity and comfort level.\n",
        "* Guide you through the exercises and explain the logic and code. If you get stuck with the exercises, you can ask a LLM to give you a step-by-step guide to the exercise so you better understand the learning objectives. For best results, be very specific with the LLM AI so it has the necessary context to best help you.\n",
        "\n",
        "* Give you more exercises. If you aren't sure you understand a concept and want to test your knowledge, ask a LLM AI to give additional exercises to help test your abilities and understanding. They can be coding problems, multiple choice, fill in the blank, or whatever will work best for your learning style. Be creative and get the support you want.  \n",
        "\n",
        "The AI has infinite patience, so ask as many questions as you want!\n",
        "\n",
        "### **The Food Emojis**\n",
        "\n",
        "As you go through this workshop, you will notice **Food Emojis** embedded throughout. They accompany bolded terms that are the fundamental concepts that python programming is built upon. The key thing here is **if you see an emoji, consider asking a LLM AI about the bolded concept**. For fun, we have gamified this by thinking of the emojis as dishes you can collect on a world food tour.\n",
        "  - To collect all the dishes, you should follow the workshop section by section and add your found dish (new coding concept) to the end of the following prompt and take it to LLM AI:\n",
        "\n",
        " `You are going to take on the role of an excellent python coding tutor. I'm a beginner learning to program in python. In simple terms, please give me an overview and explanation of the following concept:  `\n",
        "\n",
        "  - You can add more surrounding components to the prompts to make it more clear. For example, maybe you know another language and want LLM AI to compare how the concept works in R or C++ to help you better understand.\n",
        "\n",
        "### **Disclaimer**\n",
        "- Outputs may be inaccurate, untruthful, and otherwise misleading.\n",
        "- It may produce biased content.\n",
        "- It will not cite sources.\n",
        "  \n",
        "Always use caution when interacting with LLM AI systems. Despite the large bounds in progress and capability, they are still in early versions and teams of people are working to fix short comings and mistakes each and every day. Despite how useful they can be as coding tutors, it is important to remember that their outputs should be met with a healthy amount of skepticism."
      ],
      "metadata": {
        "id": "pWRCNtZYaegw"
      }
    },
    {
      "cell_type": "markdown",
      "metadata": {
        "id": "2F2ZYWa-Jby8"
      },
      "source": [
        "## **Introduction**\n",
        "* Developed in early 90’s by **Guido Van Rossum**\n",
        "\n",
        "### What is 🍕**Python Programming Language**\n",
        "* General purpose,\n",
        " * *High Level*\n",
        " * *Structured*\n",
        " * *Interpreted*\n",
        " * *Object-oriented Language*\n",
        "\n",
        "* Simple, Portable, Open source & Powerful\n",
        "\n",
        "### **Ways to run Python**\n",
        "* Interactive Interpreter (Classic command line interpreter or Python Shell) - Run as a calculator or used to run a python program\n",
        "* Script from command line - Used to run a python program\n",
        "* General purpose Integrated Development Environment (IDE) - Eclipse, Netbeans, etc\n",
        "* Python dedicated IDEs like Pycharm, Spyder, IDLE\n",
        "* Web-based interactive computational environment like Jupyter Notebooks, Google Colaboratory, etc\n",
        "---\n",
        "Did you notice the first food emoji? Here is an example of how to use the sample prompt given above:\n",
        "\n",
        " `You are going to take on the role of an excellent python coding tutor. I'm a beginner learning to program in python. In simple terms, please give me an overview and explanation of the following concept: Python Programming Language `\n"
      ]
    },
    {
      "cell_type": "markdown",
      "metadata": {
        "id": "kfTgkZkLJby_"
      },
      "source": [
        "## **Variables and Data Types**\n",
        "\n",
        "### 🍔**Variables**\n",
        "* Stores a piece of data and gives it a specific name\n",
        "* Do not need to specify data type (No Declaration needed)\n",
        "* Equal sign **( = )** is used to assign values to variables"
      ]
    },
    {
      "cell_type": "code",
      "execution_count": null,
      "metadata": {
        "id": "NwPQCHCjJbzA"
      },
      "outputs": [],
      "source": [
        "v = 98"
      ]
    },
    {
      "cell_type": "markdown",
      "metadata": {
        "id": "NXtNn68IJbzC"
      },
      "source": [
        "**' v '** is the variable name\n",
        "<br>\n",
        "**' = '** is the assignment operator\n",
        "<br>\n",
        "**98** is the value\n",
        "\n",
        "#### **Variable names**\n",
        "* No spaces allowed (Use underscore or init caps, example - 'my_name' or 'myName')\n",
        "* No special symbols or characters like '\"@#%^&()-/\\* except the underscore '_'\n",
        "* Cannot begin with a number but may have a number within the variable name\n",
        "* The python community by convention begin variable names with small letters but caps are allowed anywhere else"
      ]
    },
    {
      "cell_type": "code",
      "execution_count": null,
      "metadata": {
        "id": "q6J2lkC5JbzD"
      },
      "outputs": [],
      "source": [
        "my_name = 'John Smith'"
      ]
    },
    {
      "cell_type": "code",
      "execution_count": null,
      "metadata": {
        "collapsed": true,
        "id": "Vf379bm0JbzE"
      },
      "outputs": [],
      "source": [
        "v_1 = 8\n",
        "v_2 = 9"
      ]
    },
    {
      "cell_type": "markdown",
      "metadata": {
        "id": "ShelRFFaJbzF"
      },
      "source": [
        "#### **Using a variable**\n",
        "To use a variable, just type out the variable name.\n",
        "<br>\n",
        "See examples below"
      ]
    },
    {
      "cell_type": "code",
      "execution_count": null,
      "metadata": {
        "collapsed": true,
        "id": "hpZCMlK_JbzF"
      },
      "outputs": [],
      "source": [
        "print(my_name)"
      ]
    },
    {
      "cell_type": "code",
      "execution_count": null,
      "metadata": {
        "collapsed": true,
        "id": "WeBvi3jOJbzG"
      },
      "outputs": [],
      "source": [
        "age = v_1 + v_2"
      ]
    },
    {
      "cell_type": "code",
      "execution_count": null,
      "metadata": {
        "collapsed": true,
        "id": "95KLYm_KJbzG"
      },
      "outputs": [],
      "source": [
        "print ('I am', age, 'years old')"
      ]
    },
    {
      "cell_type": "markdown",
      "metadata": {
        "id": "XAjGLtSDJbzH"
      },
      "source": [
        "**<h5><center>Note</center></h5>**\n",
        "\n",
        "\n",
        "**'print'** is a function that displays its arguments (inputs). It can take multiple arguments (inputs) separated by commas '**,**'.\n",
        "<br>\n",
        "We will introduce **functions** later"
      ]
    },
    {
      "cell_type": "markdown",
      "metadata": {
        "id": "lJgYIiVzJbzH"
      },
      "source": [
        "### 🥖**Data types**\n",
        "Data Types are implied. They do not have to be declared\n",
        "* Numeric types - int, float, complex\n",
        "* Boolean - True, False\n",
        "* String\n",
        "* List\n",
        "* Tuple\n",
        "* Dictionary\n",
        "* Set"
      ]
    },
    {
      "cell_type": "markdown",
      "metadata": {
        "id": "9hNbCDmNJbzH"
      },
      "source": [
        "## **Math Operators**"
      ]
    },
    {
      "cell_type": "markdown",
      "metadata": {
        "id": "0vocR7k6JbzI"
      },
      "source": [
        "#### **Addition ( + )**"
      ]
    },
    {
      "cell_type": "code",
      "execution_count": null,
      "metadata": {
        "collapsed": true,
        "id": "s77kKUCyJbzI"
      },
      "outputs": [],
      "source": [
        "2+3"
      ]
    },
    {
      "cell_type": "markdown",
      "metadata": {
        "id": "x98C0uC3JbzI"
      },
      "source": [
        "#### **Subtraction ( - )**"
      ]
    },
    {
      "cell_type": "code",
      "execution_count": null,
      "metadata": {
        "collapsed": true,
        "id": "yZa-N9Q-JbzI"
      },
      "outputs": [],
      "source": [
        "9-3"
      ]
    },
    {
      "cell_type": "markdown",
      "metadata": {
        "id": "0au2KheqJbzJ"
      },
      "source": [
        "#### **Multiplication ( * )**"
      ]
    },
    {
      "cell_type": "code",
      "execution_count": null,
      "metadata": {
        "collapsed": true,
        "id": "nyvHVkphJbzJ"
      },
      "outputs": [],
      "source": [
        "3*8"
      ]
    },
    {
      "cell_type": "markdown",
      "metadata": {
        "id": "z4xILHRdJbzJ"
      },
      "source": [
        "#### **Division( / )**"
      ]
    },
    {
      "cell_type": "code",
      "execution_count": null,
      "metadata": {
        "collapsed": true,
        "id": "7d9fu8JmJbzJ"
      },
      "outputs": [],
      "source": [
        "3/2"
      ]
    },
    {
      "cell_type": "markdown",
      "metadata": {
        "id": "0azByzdXJbzK"
      },
      "source": [
        "#### 🥐**Floor Division ( // )**"
      ]
    },
    {
      "cell_type": "code",
      "execution_count": null,
      "metadata": {
        "collapsed": true,
        "id": "TsU9Cxs0JbzK"
      },
      "outputs": [],
      "source": [
        "3//2"
      ]
    },
    {
      "cell_type": "markdown",
      "metadata": {
        "id": "xlUt5OldJbzK"
      },
      "source": [
        "#### 🥞**Modulus( % )**"
      ]
    },
    {
      "cell_type": "code",
      "execution_count": null,
      "metadata": {
        "collapsed": true,
        "id": "rhuRy1AIJbzK"
      },
      "outputs": [],
      "source": [
        "9%5"
      ]
    },
    {
      "cell_type": "markdown",
      "metadata": {
        "id": "Untu_IipJbzK"
      },
      "source": [
        "#### **Exponent**( ** )"
      ]
    },
    {
      "cell_type": "code",
      "execution_count": null,
      "metadata": {
        "collapsed": true,
        "id": "H-1WTNieJbzK"
      },
      "outputs": [],
      "source": [
        "2**3"
      ]
    },
    {
      "cell_type": "markdown",
      "metadata": {
        "id": "od8pPtXZJbzL"
      },
      "source": [
        "## 🍖**Comments**\n",
        "* Single line commenting symbol is the hash symbol '#'\n",
        "* The interpreter ignores everything after #\n",
        "* Leave comments in your code to make it understandable to other team members and for yourself"
      ]
    },
    {
      "cell_type": "code",
      "execution_count": null,
      "metadata": {
        "collapsed": true,
        "id": "m5gAjgxVJbzL"
      },
      "outputs": [],
      "source": [
        "# This line is ignored"
      ]
    },
    {
      "cell_type": "markdown",
      "metadata": {
        "id": "sBI2YYy_JbzL"
      },
      "source": [
        "* Multi-line - Not supported in Python\n",
        "* Use the # on each line of a multiline comment"
      ]
    },
    {
      "cell_type": "code",
      "execution_count": null,
      "metadata": {
        "collapsed": true,
        "id": "8W6owQ1MJbzL"
      },
      "outputs": [],
      "source": [
        "# This is a multiline comment\n",
        "# This line and the line above are both ignored by the interpreter"
      ]
    },
    {
      "cell_type": "markdown",
      "metadata": {
        "id": "Sgc3ZLqYJbzL"
      },
      "source": [
        "## **Exercise 1**\n",
        "#### **Tip Calculator!!**\n",
        "Cost of meal = 54.76\n",
        "<br>\n",
        "Tax = 7.85%\n",
        "<br>\n",
        "Tip = 15%\n",
        "<br>\n",
        "Find the tax amount, cost after the tax, tip amount, and total cost"
      ]
    },
    {
      "cell_type": "code",
      "execution_count": null,
      "metadata": {
        "collapsed": true,
        "id": "g4Cxt7YlJbzL"
      },
      "outputs": [],
      "source": [
        "# Create a variable for cost of meal, tax and tip and assign their values\n",
        "# Note that percentage is not captured in programming languages. Divide by 100 instead.\n",
        "cost_of_meal = 54.76\n",
        "\n",
        "\n",
        "\n",
        "\n",
        "# Calculate tax amount by creating a variable for it and assign it to a formula using the variables for cost of meal and tax\n",
        "\n",
        "\n",
        "# Calculate cost after tax\n",
        "\n",
        "\n",
        "# Calculate tip amount\n",
        "# Hint: Calculate the tip amount the cost after tax\n",
        "\n",
        "\n",
        "# Calculate total amount\n",
        "\n",
        "\n",
        "print('My original meal cost is', cost_of_meal)\n",
        "\n",
        "# Follow the example above and print the tax amount\n",
        "\n",
        "\n",
        "# Print the cost after tax\n",
        "\n",
        "\n",
        "# Print the tip amount\n",
        "\n",
        "\n",
        "# Print the total cost of the meal\n",
        "\n"
      ]
    },
    {
      "cell_type": "markdown",
      "metadata": {
        "id": "LqLwpXewJbzM"
      },
      "source": [
        "## 🍗**Strings**\n",
        "Any strand of all characters on the keyboard put in quotation.\n",
        "#### One line strings - declared in single quotes (' ') or double quotes (\" \")\n",
        "Single and double quotes can be used interchangeably"
      ]
    },
    {
      "cell_type": "code",
      "execution_count": null,
      "metadata": {
        "collapsed": true,
        "id": "ooEaiaP0JbzM"
      },
      "outputs": [],
      "source": [
        "name_1 = 'John Wick'\n",
        "name_2 = \"Indiana Jones\""
      ]
    },
    {
      "cell_type": "code",
      "execution_count": null,
      "metadata": {
        "collapsed": true,
        "id": "ITSgJV5pJbzM"
      },
      "outputs": [],
      "source": [
        "# this is a string and not an integer\n",
        "age = '2'"
      ]
    },
    {
      "cell_type": "code",
      "execution_count": null,
      "metadata": {
        "collapsed": true,
        "id": "TdFySTyTJbzM"
      },
      "outputs": [],
      "source": [
        "# Start with a double quote if you use a single quote in your string\n",
        "f = \"This is Del's pencil\""
      ]
    },
    {
      "cell_type": "code",
      "execution_count": null,
      "metadata": {
        "collapsed": true,
        "id": "uKzilGVSJbzN"
      },
      "outputs": [],
      "source": [
        "# Start with a single quote if you use a double quote in your string\n",
        "f = 'Francis said \"This is my pencil\"'"
      ]
    },
    {
      "cell_type": "code",
      "execution_count": null,
      "metadata": {
        "collapsed": true,
        "id": "jusFlW0CJbzN"
      },
      "outputs": [],
      "source": [
        "print (f)"
      ]
    },
    {
      "cell_type": "markdown",
      "metadata": {
        "id": "ZZMmcko0JbzN"
      },
      "source": [
        "#### **Multi-line strings - declared in triple quotes ( \"\"\" \"\"\" or ''' ''' )**"
      ]
    },
    {
      "cell_type": "code",
      "execution_count": null,
      "metadata": {
        "collapsed": true,
        "id": "ta_VgcdEJbzN"
      },
      "outputs": [],
      "source": [
        "eg = \"\"\"I am in the CEAS library in\n",
        "Introduction to Python session \"\"\""
      ]
    },
    {
      "cell_type": "code",
      "execution_count": null,
      "metadata": {
        "collapsed": true,
        "id": "iWiB6TZfJbzO"
      },
      "outputs": [],
      "source": [
        "print(eg)"
      ]
    },
    {
      "cell_type": "markdown",
      "metadata": {
        "id": "m-2FaICeJbzP"
      },
      "source": [
        "## 🥓**String Indexing**\n",
        "**Each character can be accessed by using their index starting from index 0**"
      ]
    },
    {
      "cell_type": "code",
      "execution_count": null,
      "metadata": {
        "collapsed": true,
        "id": "s72_bPatJbzR"
      },
      "outputs": [],
      "source": [
        "name = 'Johnson Smith'"
      ]
    },
    {
      "cell_type": "code",
      "execution_count": null,
      "metadata": {
        "collapsed": true,
        "id": "OWe6ConAJbzS"
      },
      "outputs": [],
      "source": [
        "name[0]"
      ]
    },
    {
      "cell_type": "code",
      "execution_count": null,
      "metadata": {
        "collapsed": true,
        "id": "HzLXgB_AJbzS"
      },
      "outputs": [],
      "source": [
        "name[1]"
      ]
    },
    {
      "cell_type": "code",
      "execution_count": null,
      "metadata": {
        "collapsed": true,
        "id": "fpYQDY0dJbzS"
      },
      "outputs": [],
      "source": [
        "name[6]"
      ]
    },
    {
      "cell_type": "code",
      "execution_count": null,
      "metadata": {
        "collapsed": true,
        "id": "V4L_cT3-JbzT"
      },
      "outputs": [],
      "source": [
        "name[12]"
      ]
    },
    {
      "cell_type": "markdown",
      "metadata": {
        "id": "KcCb940cJbzT"
      },
      "source": [
        "**You can start indexing from the right side with negative indexes starting with index -1**"
      ]
    },
    {
      "cell_type": "code",
      "execution_count": null,
      "metadata": {
        "collapsed": true,
        "id": "mbIIXAGcJbzT"
      },
      "outputs": [],
      "source": [
        "name[-1]"
      ]
    },
    {
      "cell_type": "code",
      "execution_count": null,
      "metadata": {
        "collapsed": true,
        "id": "WuOfTkJTJbzT"
      },
      "outputs": [],
      "source": [
        "name[-2]"
      ]
    },
    {
      "cell_type": "code",
      "execution_count": null,
      "metadata": {
        "collapsed": true,
        "id": "TkqDQS_mJbzT"
      },
      "outputs": [],
      "source": [
        "name[-13]"
      ]
    },
    {
      "cell_type": "markdown",
      "metadata": {
        "id": "90x7fnlIJbzT"
      },
      "source": [
        "### 🍟**String Slicing**\n",
        "\n",
        "\n",
        "**You can extract a range of characters**\n",
        "<br>\n",
        "Assume a string variable called **'var'**\n",
        "<br>\n",
        "**var[starting index : ending index + 1]**"
      ]
    },
    {
      "cell_type": "code",
      "execution_count": null,
      "metadata": {
        "collapsed": true,
        "id": "_k-KMpMYJbzU"
      },
      "outputs": [],
      "source": [
        "name"
      ]
    },
    {
      "cell_type": "code",
      "execution_count": null,
      "metadata": {
        "collapsed": true,
        "id": "eXJpG5EjJbzU"
      },
      "outputs": [],
      "source": [
        "name[0:6]"
      ]
    },
    {
      "cell_type": "code",
      "execution_count": null,
      "metadata": {
        "collapsed": true,
        "id": "OQtOJutEJbzU"
      },
      "outputs": [],
      "source": [
        "name[7:13]"
      ]
    },
    {
      "cell_type": "code",
      "execution_count": null,
      "metadata": {
        "collapsed": true,
        "id": "GypGTqPDJbzU"
      },
      "outputs": [],
      "source": [
        "name[1:4]"
      ]
    },
    {
      "cell_type": "markdown",
      "metadata": {
        "id": "Ako9162jJbzU"
      },
      "source": [
        "**<h5><center>Note</center></h5>**\n",
        "\n",
        "**Strings are \"IMMUTABLE\"**\n",
        "Once you create a string object, you cannot change a particular string location.\n",
        "<br>\n",
        "**name[6] = 'c'**\n",
        "<br>\n",
        "will result in the error below\n",
        "\n",
        "\n",
        "---\n",
        "\n",
        "\n",
        "\n",
        "TypeError                                 Traceback (most recent call last)\n",
        "<br>\n",
        "< ipython-input-44-d47a2608aba2 > in < module >()\n",
        "<br>\n",
        "----> 1 name[6]='-'\n",
        "<br>\n",
        "TypeError: 'str' object does not support item assignment\n",
        "\n",
        "\n",
        "---\n",
        "\n",
        "\n",
        "🦐 **Tip:** Try copy and pasting the error message above into LLM AI for more explanation and examples on string immutability."
      ]
    },
    {
      "cell_type": "code",
      "source": [
        "name[6] = 'c'"
      ],
      "metadata": {
        "id": "OpCNU-MSYEp7"
      },
      "execution_count": null,
      "outputs": []
    },
    {
      "cell_type": "markdown",
      "metadata": {
        "id": "VFFrbkSbJbzU"
      },
      "source": [
        "### 🥗**Some String Functions and Methods**\n",
        "\n"
      ]
    },
    {
      "cell_type": "code",
      "execution_count": null,
      "metadata": {
        "collapsed": true,
        "id": "8rsCX3bbzHbF"
      },
      "outputs": [],
      "source": [
        "name = 'Johnson Smith'"
      ]
    },
    {
      "cell_type": "markdown",
      "source": [
        "**Length of string**"
      ],
      "metadata": {
        "id": "sx1iSc75zKSg"
      }
    },
    {
      "cell_type": "code",
      "execution_count": null,
      "metadata": {
        "collapsed": true,
        "id": "eXXI-Sz0JbzU"
      },
      "outputs": [],
      "source": [
        "len(name)"
      ]
    },
    {
      "cell_type": "markdown",
      "metadata": {
        "id": "r6TkmPasJbzV"
      },
      "source": [
        "**Convert to string**"
      ]
    },
    {
      "cell_type": "code",
      "execution_count": null,
      "metadata": {
        "collapsed": true,
        "id": "VrBKRYOpJbzV"
      },
      "outputs": [],
      "source": [
        "age = 3"
      ]
    },
    {
      "cell_type": "code",
      "execution_count": null,
      "metadata": {
        "collapsed": true,
        "id": "KgiOJoXeJbzV"
      },
      "outputs": [],
      "source": [
        "str(age)"
      ]
    },
    {
      "cell_type": "markdown",
      "metadata": {
        "id": "Q1083YjaJbzV"
      },
      "source": [
        "**Convert to lower case**"
      ]
    },
    {
      "cell_type": "code",
      "execution_count": null,
      "metadata": {
        "collapsed": true,
        "id": "0iMxtIk3JbzV"
      },
      "outputs": [],
      "source": [
        "name.lower()"
      ]
    },
    {
      "cell_type": "markdown",
      "metadata": {
        "id": "J8d9uFvDJbzV"
      },
      "source": [
        "**Convert to upper case**"
      ]
    },
    {
      "cell_type": "code",
      "execution_count": null,
      "metadata": {
        "collapsed": true,
        "id": "QXVx-UBKJbzV"
      },
      "outputs": [],
      "source": [
        "name.upper()"
      ]
    },
    {
      "cell_type": "markdown",
      "metadata": {
        "id": "OsCHuF4LJbzV"
      },
      "source": [
        "**Is digit/Is alpha**\n",
        "\n",
        "Output is a Boolean value (True/False)"
      ]
    },
    {
      "cell_type": "code",
      "execution_count": null,
      "metadata": {
        "id": "8PaS-4gRJbzV"
      },
      "outputs": [],
      "source": [
        "name = 'Francis'"
      ]
    },
    {
      "cell_type": "code",
      "execution_count": null,
      "metadata": {
        "id": "L1zQTs6KJbzW"
      },
      "outputs": [],
      "source": [
        "name.isdigit()"
      ]
    },
    {
      "cell_type": "code",
      "execution_count": null,
      "metadata": {
        "id": "V2bvNTsnJbzW"
      },
      "outputs": [],
      "source": [
        "name.isalpha()"
      ]
    },
    {
      "cell_type": "code",
      "execution_count": null,
      "metadata": {
        "id": "HsC8FFxAJbzW"
      },
      "outputs": [],
      "source": [
        "str(age).isdigit()"
      ]
    },
    {
      "cell_type": "markdown",
      "metadata": {
        "id": "KaD4_Yv_JbzW"
      },
      "source": [
        "**Replace characters**"
      ]
    },
    {
      "cell_type": "code",
      "execution_count": null,
      "metadata": {
        "id": "1jgZyg6LJbzW"
      },
      "outputs": [],
      "source": [
        "name.replace('s','k')"
      ]
    },
    {
      "cell_type": "markdown",
      "metadata": {
        "id": "PiLfUubcJbzW"
      },
      "source": [
        "**Split a string using a delimiter character**"
      ]
    },
    {
      "cell_type": "code",
      "execution_count": null,
      "metadata": {
        "collapsed": true,
        "id": "p2rNlVaIJbzW"
      },
      "outputs": [],
      "source": [
        "text = 'I am going to the University of Cincinnati'\n",
        "name = \"Mary-Jane Watson\""
      ]
    },
    {
      "cell_type": "code",
      "execution_count": null,
      "metadata": {
        "collapsed": true,
        "id": "xVJl0euwJbzX"
      },
      "outputs": [],
      "source": [
        "text.split(' ')"
      ]
    },
    {
      "cell_type": "code",
      "execution_count": null,
      "metadata": {
        "collapsed": true,
        "id": "B_ONGe-8JbzX"
      },
      "outputs": [],
      "source": [
        "name.split('-')"
      ]
    },
    {
      "cell_type": "markdown",
      "metadata": {
        "id": "Da35EA9lJbzX"
      },
      "source": [
        "### 🥙**String Concatenation**\n",
        "**Combining of strings is done by using the (+) operator between them**"
      ]
    },
    {
      "cell_type": "code",
      "execution_count": null,
      "metadata": {
        "id": "fT5ABaDwJbzX"
      },
      "outputs": [],
      "source": [
        "string1 = 'My name is '\n",
        "name = 'John'\n",
        "string2 = string1 + name\n",
        "print(string2)"
      ]
    },
    {
      "cell_type": "markdown",
      "metadata": {
        "id": "LViE84F3JbzX"
      },
      "source": [
        "**In order to combine a string with a non-string variable, use str( ) method to convert non-strings to strings**\n",
        "<br>\n",
        "You cannot concatenate a string with a non-string type without converting the non-string type to a string.\n",
        "<br>\n",
        "No conversion will result in error similar tp the error below\n",
        "\n",
        "TypeError                                 Traceback (most recent call last)\n",
        "<br>\n",
        "< ipython-input-77-887da7680fd9 > in < module >( )\n",
        "<br>\n",
        "----> 1 string1 + 9\n",
        "<br>\n",
        "TypeError: must be str, not int"
      ]
    },
    {
      "cell_type": "code",
      "execution_count": null,
      "metadata": {
        "collapsed": true,
        "id": "TiPzbzLbJbzX"
      },
      "outputs": [],
      "source": [
        "string1 = 'My name is '\n",
        "name = 'John '\n",
        "age = 16\n",
        "string2 = string1 + name + 'I am ' + str(age) + ' years old'\n",
        "print(string2)"
      ]
    },
    {
      "cell_type": "markdown",
      "metadata": {
        "id": "Y_Kqnin6JbzY"
      },
      "source": [
        "## 🥘**Lists**\n",
        "* A datatype that can store a collection of different pieces of information as a sequence under a single variable name\n",
        "* **Creating lists** - Put comma separated values within square brackets. Values can be of different data types"
      ]
    },
    {
      "cell_type": "code",
      "execution_count": null,
      "metadata": {
        "collapsed": true,
        "id": "nxGrRsZ0JbzY"
      },
      "outputs": [],
      "source": [
        "list1 = ['physics','astronomy',56.98,'MJ',-9.36]\n",
        "\n",
        "# list within a list\n",
        "list2 = ['chemistry','biology',77.98,[3,4,65],'EE',-56]"
      ]
    },
    {
      "cell_type": "markdown",
      "metadata": {
        "id": "bBa4IqjyJbzZ"
      },
      "source": [
        "### 🥚**Accessing values in a list via indexing**\n",
        "* Same as String objects.\n",
        "* Elements or a range of elements can be accessed by index"
      ]
    },
    {
      "cell_type": "code",
      "execution_count": null,
      "metadata": {
        "collapsed": true,
        "id": "UPvvzf9OyY84"
      },
      "outputs": [],
      "source": [
        "list1 = ['physics','astronomy',56.98,'MJ',-9.36]\n",
        "\n",
        "list2 = ['chemistry','biology',77.98,[3,4,65],'EE',-56]"
      ]
    },
    {
      "cell_type": "code",
      "execution_count": null,
      "metadata": {
        "collapsed": true,
        "id": "tP4czlz-JbzZ"
      },
      "outputs": [],
      "source": [
        "list1[0]"
      ]
    },
    {
      "cell_type": "code",
      "execution_count": null,
      "metadata": {
        "collapsed": true,
        "id": "XfEITGJkJbzZ"
      },
      "outputs": [],
      "source": [
        "list1[1]"
      ]
    },
    {
      "cell_type": "code",
      "execution_count": null,
      "metadata": {
        "collapsed": true,
        "id": "L46i99SqJbzZ"
      },
      "outputs": [],
      "source": [
        "list1[4]"
      ]
    },
    {
      "cell_type": "code",
      "execution_count": null,
      "metadata": {
        "collapsed": true,
        "id": "Xjz8d1d2Jbza"
      },
      "outputs": [],
      "source": [
        "list1[-1]"
      ]
    },
    {
      "cell_type": "code",
      "source": [
        "list1[1]"
      ],
      "metadata": {
        "id": "PMzKkU3RHBtk"
      },
      "execution_count": null,
      "outputs": []
    },
    {
      "cell_type": "code",
      "execution_count": null,
      "metadata": {
        "collapsed": true,
        "id": "4IFS57fKJbza"
      },
      "outputs": [],
      "source": [
        "list1[-2]"
      ]
    },
    {
      "cell_type": "code",
      "execution_count": null,
      "metadata": {
        "collapsed": true,
        "id": "s70xjd39Jbza"
      },
      "outputs": [],
      "source": [
        "list1[1][3]"
      ]
    },
    {
      "cell_type": "code",
      "execution_count": null,
      "metadata": {
        "collapsed": true,
        "id": "H-9wa56GJbza"
      },
      "outputs": [],
      "source": [
        "list2[3]"
      ]
    },
    {
      "cell_type": "code",
      "execution_count": null,
      "metadata": {
        "collapsed": true,
        "id": "bsjd4qfJJbza"
      },
      "outputs": [],
      "source": [
        "list2[3][2]"
      ]
    },
    {
      "cell_type": "code",
      "execution_count": null,
      "metadata": {
        "collapsed": true,
        "id": "Uzcz2suzJbza"
      },
      "outputs": [],
      "source": [
        "list1[0:4]"
      ]
    },
    {
      "cell_type": "code",
      "execution_count": null,
      "metadata": {
        "collapsed": true,
        "id": "med3bwvdJbza"
      },
      "outputs": [],
      "source": [
        "list2[3:5]"
      ]
    },
    {
      "cell_type": "markdown",
      "metadata": {
        "id": "BV0-aHa2Jbza"
      },
      "source": [
        "### 🍲**List Concatenation**\n",
        "**Can be done by using the (+) operator between two lists**"
      ]
    },
    {
      "cell_type": "code",
      "execution_count": null,
      "metadata": {
        "collapsed": true,
        "id": "Qd5xjW-tJbzb"
      },
      "outputs": [],
      "source": [
        "[1,2,3] + [5,6,7]"
      ]
    },
    {
      "cell_type": "code",
      "execution_count": null,
      "metadata": {
        "collapsed": true,
        "id": "sOFgdNBcJbzb"
      },
      "outputs": [],
      "source": [
        "list1 + list2"
      ]
    },
    {
      "cell_type": "markdown",
      "metadata": {
        "id": "ngYx05I2Jbzb"
      },
      "source": [
        "### 🍚**Some List Functions and Methods**\n",
        "\n"
      ]
    },
    {
      "cell_type": "code",
      "execution_count": null,
      "metadata": {
        "collapsed": true,
        "id": "kJY9WQymzZv-"
      },
      "outputs": [],
      "source": [
        "list1 = ['physics','astronomy',56.98,'MJ',-9.36]\n",
        "\n",
        "list2 = ['chemistry','biology',77.98,[3,4,65],'EE',-56]"
      ]
    },
    {
      "cell_type": "markdown",
      "source": [
        "**Length of a list**"
      ],
      "metadata": {
        "id": "uKRBrOaOzdC4"
      }
    },
    {
      "cell_type": "code",
      "execution_count": null,
      "metadata": {
        "collapsed": true,
        "id": "BOKHMpykJbzb"
      },
      "outputs": [],
      "source": [
        "len(list1)"
      ]
    },
    {
      "cell_type": "code",
      "execution_count": null,
      "metadata": {
        "collapsed": true,
        "id": "VbNHANviJbzb"
      },
      "outputs": [],
      "source": [
        "len(list2)"
      ]
    },
    {
      "cell_type": "markdown",
      "metadata": {
        "id": "uC1TuokvJbzb"
      },
      "source": [
        "**Maximum/Minimum value**"
      ]
    },
    {
      "cell_type": "code",
      "execution_count": null,
      "metadata": {
        "collapsed": true,
        "id": "n7CE5GjEJbzb"
      },
      "outputs": [],
      "source": [
        "list3 = [3,4,67,2,1]\n",
        "list4 = ['3','4','67','2','1','four','three']"
      ]
    },
    {
      "cell_type": "code",
      "execution_count": null,
      "metadata": {
        "collapsed": true,
        "id": "HbKf4hFyJbzb"
      },
      "outputs": [],
      "source": [
        "max(list3)"
      ]
    },
    {
      "cell_type": "code",
      "execution_count": null,
      "metadata": {
        "collapsed": true,
        "id": "AWZIhNfDJbzc"
      },
      "outputs": [],
      "source": [
        "min(list3)"
      ]
    },
    {
      "cell_type": "markdown",
      "metadata": {
        "id": "yfxr7_gxJbzc"
      },
      "source": [
        "**Append object to list**"
      ]
    },
    {
      "cell_type": "code",
      "source": [
        "list4"
      ],
      "metadata": {
        "id": "gqVukxPOznE0"
      },
      "execution_count": null,
      "outputs": []
    },
    {
      "cell_type": "code",
      "execution_count": null,
      "metadata": {
        "collapsed": true,
        "id": "I4u9PlxuJbzc"
      },
      "outputs": [],
      "source": [
        "list4.append('two')\n",
        "list4.append('three')\n",
        "list4"
      ]
    },
    {
      "cell_type": "markdown",
      "metadata": {
        "id": "4PtLWHVmJbzd"
      },
      "source": [
        "**Insert object**"
      ]
    },
    {
      "cell_type": "code",
      "source": [
        "list4"
      ],
      "metadata": {
        "id": "In9efShizpE9"
      },
      "execution_count": null,
      "outputs": []
    },
    {
      "cell_type": "code",
      "execution_count": null,
      "metadata": {
        "collapsed": true,
        "id": "MDNpjJhLJbzd"
      },
      "outputs": [],
      "source": [
        "list4.insert(3,56)\n",
        "list4"
      ]
    },
    {
      "cell_type": "markdown",
      "metadata": {
        "id": "nIGTMS03Jbzc"
      },
      "source": [
        "**Frequency of object**"
      ]
    },
    {
      "cell_type": "code",
      "execution_count": null,
      "metadata": {
        "collapsed": true,
        "id": "qR06JMjVJbzc"
      },
      "outputs": [],
      "source": [
        "list4.count('three')"
      ]
    },
    {
      "cell_type": "markdown",
      "metadata": {
        "id": "zaf1MPiGJbzc"
      },
      "source": [
        "**Return index**"
      ]
    },
    {
      "cell_type": "code",
      "execution_count": 27,
      "metadata": {
        "collapsed": true,
        "id": "feot5GA4Jbzd",
        "outputId": "750d516e-7dca-4d82-c77c-43c0d97bad52",
        "colab": {
          "base_uri": "https://localhost:8080/"
        }
      },
      "outputs": [
        {
          "output_type": "execute_result",
          "data": {
            "text/plain": [
              "2"
            ]
          },
          "metadata": {},
          "execution_count": 27
        }
      ],
      "source": [
        "list4.index('1')"
      ]
    },
    {
      "cell_type": "markdown",
      "metadata": {
        "id": "libxtAQQJbzd"
      },
      "source": [
        "**Delete object**\n",
        "\n",
        "*By Index position*"
      ]
    },
    {
      "cell_type": "code",
      "source": [
        "list4"
      ],
      "metadata": {
        "id": "vFkJmyJezs2k",
        "outputId": "8bd0ac47-59cd-456a-8a46-6712b3a26f88",
        "colab": {
          "base_uri": "https://localhost:8080/"
        }
      },
      "execution_count": 31,
      "outputs": [
        {
          "output_type": "execute_result",
          "data": {
            "text/plain": [
              "['three', 'four', '1', '2', '4', 5]"
            ]
          },
          "metadata": {},
          "execution_count": 31
        }
      ]
    },
    {
      "cell_type": "code",
      "execution_count": 32,
      "metadata": {
        "collapsed": true,
        "id": "W4BWqPgaJbzd",
        "outputId": "6314087a-5a45-4395-ef1f-d9fd998995fb",
        "colab": {
          "base_uri": "https://localhost:8080/",
          "height": 36
        }
      },
      "outputs": [
        {
          "output_type": "execute_result",
          "data": {
            "text/plain": [
              "'2'"
            ],
            "application/vnd.google.colaboratory.intrinsic+json": {
              "type": "string"
            }
          },
          "metadata": {},
          "execution_count": 32
        }
      ],
      "source": [
        "list4.pop(3)"
      ]
    },
    {
      "cell_type": "code",
      "execution_count": 33,
      "metadata": {
        "collapsed": true,
        "id": "c_vM_UmwJbzd",
        "outputId": "51805aa7-ff00-4a32-f53e-31fecbc172f8",
        "colab": {
          "base_uri": "https://localhost:8080/"
        }
      },
      "outputs": [
        {
          "output_type": "execute_result",
          "data": {
            "text/plain": [
              "['three', 'four', '1', '4', 5]"
            ]
          },
          "metadata": {},
          "execution_count": 33
        }
      ],
      "source": [
        "list4"
      ]
    },
    {
      "cell_type": "markdown",
      "metadata": {
        "id": "q2t8pQiZJbzd"
      },
      "source": [
        "*By element referencing*"
      ]
    },
    {
      "cell_type": "code",
      "execution_count": 34,
      "metadata": {
        "collapsed": true,
        "id": "kahBxey0Jbzd",
        "outputId": "bcb50a08-95fb-4538-a761-aaabfb26eee2",
        "colab": {
          "base_uri": "https://localhost:8080/",
          "height": 147
        }
      },
      "outputs": [
        {
          "output_type": "error",
          "ename": "ValueError",
          "evalue": "list.remove(x): x not in list",
          "traceback": [
            "\u001b[0;31m---------------------------------------------------------------------------\u001b[0m",
            "\u001b[0;31mValueError\u001b[0m                                Traceback (most recent call last)",
            "\u001b[0;32m<ipython-input-34-32a1e4fc5852>\u001b[0m in \u001b[0;36m<cell line: 1>\u001b[0;34m()\u001b[0m\n\u001b[0;32m----> 1\u001b[0;31m \u001b[0mlist4\u001b[0m\u001b[0;34m.\u001b[0m\u001b[0mremove\u001b[0m\u001b[0;34m(\u001b[0m\u001b[0;34m'67'\u001b[0m\u001b[0;34m)\u001b[0m\u001b[0;34m\u001b[0m\u001b[0;34m\u001b[0m\u001b[0m\n\u001b[0m",
            "\u001b[0;31mValueError\u001b[0m: list.remove(x): x not in list"
          ]
        }
      ],
      "source": [
        "list4.remove('67')"
      ]
    },
    {
      "cell_type": "code",
      "execution_count": null,
      "metadata": {
        "collapsed": true,
        "id": "NsFUfNEXJbze"
      },
      "outputs": [],
      "source": [
        "list4"
      ]
    },
    {
      "cell_type": "markdown",
      "metadata": {
        "id": "CBkmFtBJJbzf"
      },
      "source": [
        "**Reverse the list**"
      ]
    },
    {
      "cell_type": "code",
      "execution_count": 24,
      "metadata": {
        "collapsed": true,
        "id": "iX6vgMxzJbzf",
        "outputId": "0ca4e9cb-0e21-4c7c-8e0b-bdf24704fe3f",
        "colab": {
          "base_uri": "https://localhost:8080/"
        }
      },
      "outputs": [
        {
          "output_type": "execute_result",
          "data": {
            "text/plain": [
              "['three', 'four', '1', '2', '67', '4', '3']"
            ]
          },
          "metadata": {},
          "execution_count": 24
        }
      ],
      "source": [
        "list4.reverse()\n",
        "list4"
      ]
    },
    {
      "cell_type": "markdown",
      "metadata": {
        "id": "0ESz6kfEJbzf"
      },
      "source": [
        "**Sort the list (natural order)**"
      ]
    },
    {
      "cell_type": "code",
      "source": [
        "list3"
      ],
      "metadata": {
        "id": "liT2dBfVzxlR",
        "outputId": "2a1217f5-00a5-4ea9-92de-e43ba98ab241",
        "colab": {
          "base_uri": "https://localhost:8080/"
        }
      },
      "execution_count": 23,
      "outputs": [
        {
          "output_type": "execute_result",
          "data": {
            "text/plain": [
              "[1, 2, 3, 4, 67]"
            ]
          },
          "metadata": {},
          "execution_count": 23
        }
      ]
    },
    {
      "cell_type": "code",
      "execution_count": 22,
      "metadata": {
        "collapsed": true,
        "id": "_6uy70jwJbzg",
        "outputId": "5e01b68d-b213-4f60-ed4f-f434cb0f8439",
        "colab": {
          "base_uri": "https://localhost:8080/"
        }
      },
      "outputs": [
        {
          "output_type": "execute_result",
          "data": {
            "text/plain": [
              "[1, 2, 3, 4, 67]"
            ]
          },
          "metadata": {},
          "execution_count": 22
        }
      ],
      "source": [
        "list3.sort()\n",
        "list3"
      ]
    },
    {
      "cell_type": "markdown",
      "metadata": {
        "id": "iUL8almkJbzg"
      },
      "source": [
        "**<h5><center>Note</center></h5>**\n",
        "\n",
        "**Lists are \"MUTABLE\"**"
      ]
    },
    {
      "cell_type": "code",
      "source": [
        "list4"
      ],
      "metadata": {
        "id": "9QZu6A22z00u",
        "outputId": "a2a51b82-ea59-452a-bd78-3456bdc50278",
        "colab": {
          "base_uri": "https://localhost:8080/"
        }
      },
      "execution_count": 28,
      "outputs": [
        {
          "output_type": "execute_result",
          "data": {
            "text/plain": [
              "['three', 'four', '1', '2', '4', '3']"
            ]
          },
          "metadata": {},
          "execution_count": 28
        }
      ]
    },
    {
      "cell_type": "code",
      "execution_count": 29,
      "metadata": {
        "collapsed": true,
        "id": "hfW2_6z-Jbzg",
        "outputId": "e2f92f8a-e7b5-49b8-bbcf-534546eebff2",
        "colab": {
          "base_uri": "https://localhost:8080/"
        }
      },
      "outputs": [
        {
          "output_type": "execute_result",
          "data": {
            "text/plain": [
              "['three', 'four', '1', '2', '4', 5]"
            ]
          },
          "metadata": {},
          "execution_count": 29
        }
      ],
      "source": [
        "list4[5] = 5\n",
        "list4"
      ]
    },
    {
      "cell_type": "markdown",
      "metadata": {
        "id": "ga5U5wBoJbzg"
      },
      "source": [
        "## 🍜**Tuples**\n",
        "**Tuples are sequences, just like lists except**\n",
        "* Tuples are immutable - cannot be changed or updated like lists\n",
        "* Tuples use parentheses ( ), whereas lists use square brackets [ ]"
      ]
    },
    {
      "cell_type": "code",
      "execution_count": 35,
      "metadata": {
        "collapsed": true,
        "id": "0I0bWa65Jbzh"
      },
      "outputs": [],
      "source": [
        "tup = (3,4,67,2,1)"
      ]
    },
    {
      "cell_type": "markdown",
      "metadata": {
        "id": "7qsr7g5BJbzh"
      },
      "source": [
        "**tup[2] = 8**\n",
        "<br>\n",
        "will result in the error below\n",
        "\n",
        "TypeError                                 Traceback (most recent call last)\n",
        "<br>\n",
        "< ipython-input-177-256383ac5724 > in < module >()\n",
        "<br>\n",
        "----> 1 tup[2] = 8\n",
        "<br>\n",
        "TypeError: 'tuple' object does not support item assignment"
      ]
    },
    {
      "cell_type": "markdown",
      "metadata": {
        "id": "FStAtNEfJbzo"
      },
      "source": [
        "## 🍤**Sets**\n",
        "\n",
        "* A set is an unordered, unindexed collection of data\n",
        "* Sets are defined using '{ }'\n",
        "* Returns only unique values, no duplicates\n",
        "* Sets are mutable"
      ]
    },
    {
      "cell_type": "code",
      "execution_count": 36,
      "metadata": {
        "id": "_EdvkpxDJbzo",
        "outputId": "7edb92f7-24bc-49ed-b95b-d34e4f6f494e",
        "colab": {
          "base_uri": "https://localhost:8080/"
        }
      },
      "outputs": [
        {
          "output_type": "execute_result",
          "data": {
            "text/plain": [
              "{'amazon', 'apple', 'google', 'microsoft', 'tesla'}"
            ]
          },
          "metadata": {},
          "execution_count": 36
        }
      ],
      "source": [
        "tech = {'google','amazon','apple','tesla','microsoft','apple', 'google'}\n",
        "tech"
      ]
    },
    {
      "cell_type": "markdown",
      "metadata": {
        "id": "nlurc852Jbzh"
      },
      "source": [
        "## **Dictionary**"
      ]
    },
    {
      "cell_type": "markdown",
      "metadata": {
        "id": "z_qbuJzHJbzh"
      },
      "source": [
        "* Similar to a list except values are accessed by looking up a **key** instead of an index\n",
        "* A key can be a string or number\n",
        "* 🍝**Creating dictionaries** - **key-value** pairs are separated by colons (**:**), items are separated by commas (**,**) and everything is enclosed in curly braces { }"
      ]
    },
    {
      "cell_type": "code",
      "execution_count": 38,
      "metadata": {
        "id": "rxCSq6bqJbzh"
      },
      "outputs": [],
      "source": [
        "dict1 = {\"name\":\"Daniel\",\"age\":23,\"degree\":\"MS\"}\n",
        "dict2 = {'name':'Francis','age':60,'job':'Car designer','brand':'Jaguar','worked-for':['Ford','TWR','Aston Martin']}"
      ]
    },
    {
      "cell_type": "markdown",
      "metadata": {
        "id": "UC47xYNJJbzh"
      },
      "source": [
        "* 🍠 **Accessing values**"
      ]
    },
    {
      "cell_type": "code",
      "execution_count": 40,
      "metadata": {
        "collapsed": true,
        "id": "QpPDTJJgJbzi",
        "outputId": "b0cc2b9a-6e14-449f-a64d-95b1a0cf009f",
        "colab": {
          "base_uri": "https://localhost:8080/"
        }
      },
      "outputs": [
        {
          "output_type": "execute_result",
          "data": {
            "text/plain": [
              "23"
            ]
          },
          "metadata": {},
          "execution_count": 40
        }
      ],
      "source": [
        "dict1['age']"
      ]
    },
    {
      "cell_type": "code",
      "execution_count": 42,
      "metadata": {
        "collapsed": true,
        "id": "Lhu2QTaJJbzi",
        "outputId": "27bc821f-e119-4b29-abbd-9be514ade22d",
        "colab": {
          "base_uri": "https://localhost:8080/"
        }
      },
      "outputs": [
        {
          "output_type": "execute_result",
          "data": {
            "text/plain": [
              "['Ford', 'TWR', 'Aston Martin']"
            ]
          },
          "metadata": {},
          "execution_count": 42
        }
      ],
      "source": [
        "dict2['worked-for']"
      ]
    },
    {
      "cell_type": "code",
      "execution_count": 43,
      "metadata": {
        "collapsed": true,
        "id": "0vceauJ_Jbzi",
        "outputId": "a762ad7a-d95a-483e-9851-67c80a6eab35",
        "colab": {
          "base_uri": "https://localhost:8080/",
          "height": 36
        }
      },
      "outputs": [
        {
          "output_type": "execute_result",
          "data": {
            "text/plain": [
              "'TWR'"
            ],
            "application/vnd.google.colaboratory.intrinsic+json": {
              "type": "string"
            }
          },
          "metadata": {},
          "execution_count": 43
        }
      ],
      "source": [
        "dict2['worked-for'][1]"
      ]
    },
    {
      "cell_type": "markdown",
      "metadata": {
        "id": "HPGSJgpgJbzi"
      },
      "source": [
        "* **Updating dictionary** - Dictionaries are MUTABLE.\n",
        "<br>\n",
        "  You may **modify an existing entry** and **add new entry**"
      ]
    },
    {
      "cell_type": "code",
      "execution_count": 44,
      "metadata": {
        "collapsed": true,
        "id": "2s-rJtlFJbzi"
      },
      "outputs": [],
      "source": [
        "dict1['subjects'] = [\"OS\",'DBMS','Artificial Intelligence']"
      ]
    },
    {
      "cell_type": "code",
      "execution_count": 45,
      "metadata": {
        "collapsed": true,
        "id": "GNY-Iu1vJbzi",
        "outputId": "2f9dff90-450f-4cba-9a8d-40292d69fced",
        "colab": {
          "base_uri": "https://localhost:8080/"
        }
      },
      "outputs": [
        {
          "output_type": "execute_result",
          "data": {
            "text/plain": [
              "{'name': 'Daniel',\n",
              " 'age': 23,\n",
              " 'degree': 'MS',\n",
              " 'subjects': ['OS', 'DBMS', 'Artificial Intelligence']}"
            ]
          },
          "metadata": {},
          "execution_count": 45
        }
      ],
      "source": [
        "dict1"
      ]
    },
    {
      "cell_type": "code",
      "execution_count": 46,
      "metadata": {
        "collapsed": true,
        "id": "CNJaI2UdJbzj"
      },
      "outputs": [],
      "source": [
        "dict1['degree']='Master of Science'"
      ]
    },
    {
      "cell_type": "code",
      "execution_count": 47,
      "metadata": {
        "collapsed": true,
        "id": "P5PiCM0RJbzj",
        "outputId": "98ac8743-9998-49cf-e2c2-ad55e5e05e31",
        "colab": {
          "base_uri": "https://localhost:8080/"
        }
      },
      "outputs": [
        {
          "output_type": "execute_result",
          "data": {
            "text/plain": [
              "{'name': 'Daniel',\n",
              " 'age': 23,\n",
              " 'degree': 'Master of Science',\n",
              " 'subjects': ['OS', 'DBMS', 'Artificial Intelligence']}"
            ]
          },
          "metadata": {},
          "execution_count": 47
        }
      ],
      "source": [
        "dict1"
      ]
    },
    {
      "cell_type": "markdown",
      "metadata": {
        "id": "Ri0LbB_2Jbzj"
      },
      "source": [
        "### 🍣**Some Dictionary functions and Methods**\n"
      ]
    },
    {
      "cell_type": "markdown",
      "source": [
        "**Length of Dictionary**"
      ],
      "metadata": {
        "id": "7AYYEbOF0B0r"
      }
    },
    {
      "cell_type": "code",
      "execution_count": 48,
      "metadata": {
        "id": "v6NYnsGoz_QG"
      },
      "outputs": [],
      "source": [
        "dict1 = {\"name\":\"Daniel\",\"age\":23,\"degree\":\"MS\"}\n",
        "dict2 = {'name':'Francis','age':60,'job':'Car designer','brand':'Jaguar','worked-for':['Ford','TWR','Aston Martin']}"
      ]
    },
    {
      "cell_type": "code",
      "execution_count": 49,
      "metadata": {
        "collapsed": true,
        "id": "W7JZ5gNdJbzj",
        "outputId": "9470f663-7379-44de-a20d-9898044f1735",
        "colab": {
          "base_uri": "https://localhost:8080/"
        }
      },
      "outputs": [
        {
          "output_type": "execute_result",
          "data": {
            "text/plain": [
              "3"
            ]
          },
          "metadata": {},
          "execution_count": 49
        }
      ],
      "source": [
        "len(dict1)"
      ]
    },
    {
      "cell_type": "markdown",
      "metadata": {
        "id": "Y5dYpeWQJbzj"
      },
      "source": [
        "**Return value with get method**"
      ]
    },
    {
      "cell_type": "code",
      "execution_count": null,
      "metadata": {
        "collapsed": true,
        "id": "BDmVib-kJbzk"
      },
      "outputs": [],
      "source": [
        "dict1.get('name')"
      ]
    },
    {
      "cell_type": "markdown",
      "metadata": {
        "id": "HK0otsWwJbzk"
      },
      "source": [
        "**List of key-value pairs**"
      ]
    },
    {
      "cell_type": "code",
      "execution_count": null,
      "metadata": {
        "collapsed": true,
        "id": "I7lEpCQIJbzn"
      },
      "outputs": [],
      "source": [
        "dict1.items()"
      ]
    },
    {
      "cell_type": "markdown",
      "metadata": {
        "id": "SAy05kDQJbzn"
      },
      "source": [
        "**List of keys**"
      ]
    },
    {
      "cell_type": "code",
      "execution_count": null,
      "metadata": {
        "collapsed": true,
        "id": "kAGTVOC3Jbzn"
      },
      "outputs": [],
      "source": [
        "dict1.keys()"
      ]
    },
    {
      "cell_type": "markdown",
      "metadata": {
        "id": "4HD5pUmDJbzn"
      },
      "source": [
        "**List of values**"
      ]
    },
    {
      "cell_type": "code",
      "execution_count": null,
      "metadata": {
        "collapsed": true,
        "id": "Kfc7oLWVJbzn"
      },
      "outputs": [],
      "source": [
        "dict1.values()"
      ]
    },
    {
      "cell_type": "markdown",
      "source": [
        "## **Exercise 2**\n",
        "\n",
        "#### **(Strings, Lists, and Dictionaries)**\n",
        "*   Create a variable with the string value - **'The quick brown fox jumps over a lazy dog'** <br>\n",
        "    * Print the length of this string variable\n",
        "    * **'Split'** the string using **'  '** (space character) and assign this operation to a new variable. Print the length of the new variable\n",
        "    * Find the middle element of the sequence in new variable and return its value\n",
        "    * **'append'** a new string value, 'number 5' (5 is an integer. Concatenate the values, 'number' and 5, while appending)\n",
        "    * **'Join'** the split strings (in the new variable) with a space character and print this operation (**Hint: ' '.join(variable_name)**)\n",
        "\n",
        "\n",
        "\n",
        "\n",
        "\n"
      ],
      "metadata": {
        "id": "HY2I6gLsT7eh"
      }
    },
    {
      "cell_type": "code",
      "source": [
        "# Enter your code here\n",
        "\n",
        "\n",
        "\n",
        "\n",
        "\n",
        "\n",
        "\n",
        "\n"
      ],
      "metadata": {
        "id": "zYOC6J9ET_mS"
      },
      "execution_count": null,
      "outputs": []
    },
    {
      "cell_type": "markdown",
      "source": [
        "*   Create a dictionary from the following table. (Column Name - Keys, Corresponding Data - Values)\n",
        "  * Return **'keys'** and **'values'** separately\n",
        "\n",
        "\n",
        ">|Director | Movies | Academy Awards |\n",
        "|------|-----|-----------|\n",
        "| Q Tarantino    |<center> 10 |<center> 7  |\n",
        "| C Nolan   |<center> 11 |<center>11 |\n",
        "| S Spielberg    |<center> 37 |<center>3  |\n",
        "| PT Anderson    |<center> 9 |<center>3  |\n",
        "| M Scorsese\t   | <center>25 |<center>20 |\n",
        "| C Eastwood | <center>40 |<center>4 |"
      ],
      "metadata": {
        "id": "UCkNoyOQUKhR"
      }
    },
    {
      "cell_type": "code",
      "source": [
        "# Enter your code here\n",
        "\n",
        "\n",
        "\n",
        "\n",
        "\n",
        "\n"
      ],
      "metadata": {
        "id": "5Sthe8F2UJhZ"
      },
      "execution_count": null,
      "outputs": []
    },
    {
      "cell_type": "markdown",
      "source": [
        "## **Bonus Exercise**\n",
        "\n",
        "### **Nested Dictionary**\n",
        "\n",
        "Create a dictionary with the following properties:\n",
        "\n",
        "- A 'name' key for a manager's name\n",
        "- A 'salary' key for a manager's salary\n",
        "- A 'assistant' key for the following dictionary:\n",
        "    - A 'name' key for an assistant's name\n",
        "    - A 'salary' key for an assistant's salary"
      ],
      "metadata": {
        "id": "UBX28RhQJbjx"
      }
    },
    {
      "cell_type": "code",
      "source": [
        "manager = {}\n",
        "\n",
        "\n",
        "\n"
      ],
      "metadata": {
        "id": "9hXgP9AMJhjI"
      },
      "execution_count": null,
      "outputs": []
    },
    {
      "cell_type": "markdown",
      "metadata": {
        "id": "yZHN4uYLJbzo"
      },
      "source": [
        "## Advanced and Future Topics\n",
        "* Control Flows\n",
        "* Functions and Variable scope\n",
        "* Classes/Objects\n",
        "* Modules and Imports\n",
        "* Packages and Libraries\n",
        "* File I/O\n",
        "* Python for Data Analysis\n",
        "* Python for Data Visualiz ation\n",
        "* Error Handling and Exceptions\n",
        "* List Comprehension\n",
        "* Regular Expressions\n",
        "* Database Access\n",
        "* Multithreading\n",
        "\n",
        "## Resources\n",
        "* CEAS Library Python resources - http://guides.libraries.uc.edu/python\n",
        "* Online links & tutorials\n",
        " * Python documentation - https://www.python.org/doc/\n",
        " * Python Programming wiki book - http://en.wikibooks.org/wiki/Python_Programming\n",
        " * Python tutorials - Udemy, Code academy, etc\n",
        " * For success stories - https://www.python.org/about/success\n"
      ]
    },
    {
      "cell_type": "markdown",
      "metadata": {
        "id": "tuk0KYRIJbzo"
      },
      "source": [
        "## $\\;\\;\\;\\;\\;\\;\\;\\;\\;\\;\\;\\;\\;\\;\\;\\;\\;\\;\\;\\;\\;\\;\\;\\;\\;\\;\\;\\;\\;\\;\\;\\;\\;$Questions ??\n",
        "\n",
        "$\\;\\;\\;\\;\\;\\;\\;\\;\\;\\;\\;\\;\\;\\;\\;\\;\\;\\;\\;\\;\\;\\;\\;\\;\\;\\;\\;\\;\\;\\;\\;\\;\\;\\;\\;\\;\\;\\;\\;\\;\\;\\;\\;\\;\\;\\;\\;\\;\\;\\;\\;\\;\\;\\;\\;\\;\\;\\;$**Thank you for attending the workshop !!**\n",
        "\n",
        "\n",
        "$\\;\\;\\;\\;\\;\\;\\;\\;\\;\\;\\;\\;\\;\\;\\;\\;\\;\\;\\;\\;\\;\\;\\;\\;\\;\\;\\;\\;\\;\\;\\;\\;\\;\\;\\;\\;\\;\\;\\;\\;\\;\\;\\;\\;\\;\\;$**Your kind suggestions/feedbacks are more than welcome**"
      ]
    }
  ],
  "metadata": {
    "kernelspec": {
      "display_name": "Python 3",
      "language": "python",
      "name": "python3"
    },
    "language_info": {
      "codemirror_mode": {
        "name": "ipython",
        "version": 3
      },
      "file_extension": ".py",
      "mimetype": "text/x-python",
      "name": "python",
      "nbconvert_exporter": "python",
      "pygments_lexer": "ipython3",
      "version": "3.7.3"
    },
    "colab": {
      "provenance": []
    }
  },
  "nbformat": 4,
  "nbformat_minor": 0
}